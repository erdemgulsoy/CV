{
  "cells": [
    {
      "cell_type": "markdown",
      "metadata": {
        "id": "view-in-github",
        "colab_type": "text"
      },
      "source": [
        "<a href=\"https://colab.research.google.com/github/erdemgulsoy/CV/blob/main/demo.ipynb\" target=\"_parent\"><img src=\"https://colab.research.google.com/assets/colab-badge.svg\" alt=\"Open In Colab\"/></a>"
      ]
    },
    {
      "cell_type": "markdown",
      "metadata": {
        "id": "HfKkvtNWjjz5"
      },
      "source": [
        "# Demo of Sam LoRA with gradio"
      ]
    },
    {
      "cell_type": "code",
      "execution_count": 5,
      "metadata": {
        "colab": {
          "base_uri": "https://localhost:8080/"
        },
        "id": "e4Ui1PhmMoaZ",
        "outputId": "b8387d86-3e24-4d40-8130-2e735e8c7916"
      },
      "outputs": [
        {
          "output_type": "stream",
          "name": "stdout",
          "text": [
            "Collecting poetry\n",
            "  Downloading poetry-2.1.1-py3-none-any.whl.metadata (7.1 kB)\n",
            "Collecting build<2.0.0,>=1.2.1 (from poetry)\n",
            "  Downloading build-1.2.2.post1-py3-none-any.whl.metadata (6.5 kB)\n",
            "Requirement already satisfied: cachecontrol<0.15.0,>=0.14.0 in /usr/local/lib/python3.11/dist-packages (from cachecontrol[filecache]<0.15.0,>=0.14.0->poetry) (0.14.2)\n",
            "Collecting cleo<3.0.0,>=2.1.0 (from poetry)\n",
            "  Downloading cleo-2.1.0-py3-none-any.whl.metadata (12 kB)\n",
            "Collecting dulwich<0.23.0,>=0.22.6 (from poetry)\n",
            "  Downloading dulwich-0.22.8-cp311-cp311-manylinux_2_17_x86_64.manylinux2014_x86_64.whl.metadata (4.9 kB)\n",
            "Requirement already satisfied: fastjsonschema<3.0.0,>=2.18.0 in /usr/local/lib/python3.11/dist-packages (from poetry) (2.21.1)\n",
            "Collecting findpython<0.7.0,>=0.6.2 (from poetry)\n",
            "  Downloading findpython-0.6.2-py3-none-any.whl.metadata (5.3 kB)\n",
            "Collecting installer<0.8.0,>=0.7.0 (from poetry)\n",
            "  Downloading installer-0.7.0-py3-none-any.whl.metadata (936 bytes)\n",
            "Collecting keyring<26.0.0,>=25.1.0 (from poetry)\n",
            "  Downloading keyring-25.6.0-py3-none-any.whl.metadata (20 kB)\n",
            "Requirement already satisfied: packaging>=24.0 in /usr/local/lib/python3.11/dist-packages (from poetry) (24.2)\n",
            "Collecting pbs-installer<2026.0.0,>=2025.1.6 (from pbs-installer[download,install]<2026.0.0,>=2025.1.6->poetry)\n",
            "  Downloading pbs_installer-2025.2.12-py3-none-any.whl.metadata (991 bytes)\n",
            "Collecting pkginfo<2.0,>=1.12 (from poetry)\n",
            "  Downloading pkginfo-1.12.1.2-py3-none-any.whl.metadata (13 kB)\n",
            "Requirement already satisfied: platformdirs<5,>=3.0.0 in /usr/local/lib/python3.11/dist-packages (from poetry) (4.3.6)\n",
            "Collecting poetry-core==2.1.1 (from poetry)\n",
            "  Downloading poetry_core-2.1.1-py3-none-any.whl.metadata (3.5 kB)\n",
            "Collecting pyproject-hooks<2.0.0,>=1.0.0 (from poetry)\n",
            "  Downloading pyproject_hooks-1.2.0-py3-none-any.whl.metadata (1.3 kB)\n",
            "Requirement already satisfied: requests<3.0,>=2.26 in /usr/local/lib/python3.11/dist-packages (from poetry) (2.32.3)\n",
            "Requirement already satisfied: requests-toolbelt<2.0.0,>=1.0.0 in /usr/local/lib/python3.11/dist-packages (from poetry) (1.0.0)\n",
            "Requirement already satisfied: shellingham<2.0,>=1.5 in /usr/local/lib/python3.11/dist-packages (from poetry) (1.5.4)\n",
            "Collecting tomlkit<1.0.0,>=0.11.4 (from poetry)\n",
            "  Downloading tomlkit-0.13.2-py3-none-any.whl.metadata (2.7 kB)\n",
            "Collecting trove-classifiers>=2022.5.19 (from poetry)\n",
            "  Downloading trove_classifiers-2025.3.3.18-py3-none-any.whl.metadata (2.3 kB)\n",
            "Collecting virtualenv<21.0.0,>=20.26.6 (from poetry)\n",
            "  Downloading virtualenv-20.29.2-py3-none-any.whl.metadata (4.5 kB)\n",
            "Requirement already satisfied: msgpack<2.0.0,>=0.5.2 in /usr/local/lib/python3.11/dist-packages (from cachecontrol<0.15.0,>=0.14.0->cachecontrol[filecache]<0.15.0,>=0.14.0->poetry) (1.1.0)\n",
            "Requirement already satisfied: filelock>=3.8.0 in /usr/local/lib/python3.11/dist-packages (from cachecontrol[filecache]<0.15.0,>=0.14.0->poetry) (3.17.0)\n",
            "Collecting crashtest<0.5.0,>=0.4.1 (from cleo<3.0.0,>=2.1.0->poetry)\n",
            "  Downloading crashtest-0.4.1-py3-none-any.whl.metadata (1.1 kB)\n",
            "Collecting rapidfuzz<4.0.0,>=3.0.0 (from cleo<3.0.0,>=2.1.0->poetry)\n",
            "  Downloading rapidfuzz-3.12.2-cp311-cp311-manylinux_2_17_x86_64.manylinux2014_x86_64.whl.metadata (12 kB)\n",
            "Requirement already satisfied: urllib3>=1.25 in /usr/local/lib/python3.11/dist-packages (from dulwich<0.23.0,>=0.22.6->poetry) (2.3.0)\n",
            "Requirement already satisfied: SecretStorage>=3.2 in /usr/lib/python3/dist-packages (from keyring<26.0.0,>=25.1.0->poetry) (3.3.1)\n",
            "Requirement already satisfied: jeepney>=0.4.2 in /usr/lib/python3/dist-packages (from keyring<26.0.0,>=25.1.0->poetry) (0.7.1)\n",
            "Requirement already satisfied: importlib_metadata>=4.11.4 in /usr/local/lib/python3.11/dist-packages (from keyring<26.0.0,>=25.1.0->poetry) (8.6.1)\n",
            "Collecting jaraco.classes (from keyring<26.0.0,>=25.1.0->poetry)\n",
            "  Downloading jaraco.classes-3.4.0-py3-none-any.whl.metadata (2.6 kB)\n",
            "Collecting jaraco.functools (from keyring<26.0.0,>=25.1.0->poetry)\n",
            "  Downloading jaraco.functools-4.1.0-py3-none-any.whl.metadata (2.9 kB)\n",
            "Collecting jaraco.context (from keyring<26.0.0,>=25.1.0->poetry)\n",
            "  Downloading jaraco.context-6.0.1-py3-none-any.whl.metadata (4.1 kB)\n",
            "Requirement already satisfied: httpx<1,>=0.27.0 in /usr/local/lib/python3.11/dist-packages (from pbs-installer[download,install]<2026.0.0,>=2025.1.6->poetry) (0.28.1)\n",
            "Requirement already satisfied: zstandard>=0.21.0 in /usr/local/lib/python3.11/dist-packages (from pbs-installer[download,install]<2026.0.0,>=2025.1.6->poetry) (0.23.0)\n",
            "Requirement already satisfied: charset-normalizer<4,>=2 in /usr/local/lib/python3.11/dist-packages (from requests<3.0,>=2.26->poetry) (3.4.1)\n",
            "Requirement already satisfied: idna<4,>=2.5 in /usr/local/lib/python3.11/dist-packages (from requests<3.0,>=2.26->poetry) (3.10)\n",
            "Requirement already satisfied: certifi>=2017.4.17 in /usr/local/lib/python3.11/dist-packages (from requests<3.0,>=2.26->poetry) (2025.1.31)\n",
            "Collecting distlib<1,>=0.3.7 (from virtualenv<21.0.0,>=20.26.6->poetry)\n",
            "  Downloading distlib-0.3.9-py2.py3-none-any.whl.metadata (5.2 kB)\n",
            "Requirement already satisfied: anyio in /usr/local/lib/python3.11/dist-packages (from httpx<1,>=0.27.0->pbs-installer[download,install]<2026.0.0,>=2025.1.6->poetry) (3.7.1)\n",
            "Requirement already satisfied: httpcore==1.* in /usr/local/lib/python3.11/dist-packages (from httpx<1,>=0.27.0->pbs-installer[download,install]<2026.0.0,>=2025.1.6->poetry) (1.0.7)\n",
            "Requirement already satisfied: h11<0.15,>=0.13 in /usr/local/lib/python3.11/dist-packages (from httpcore==1.*->httpx<1,>=0.27.0->pbs-installer[download,install]<2026.0.0,>=2025.1.6->poetry) (0.14.0)\n",
            "Requirement already satisfied: zipp>=3.20 in /usr/local/lib/python3.11/dist-packages (from importlib_metadata>=4.11.4->keyring<26.0.0,>=25.1.0->poetry) (3.21.0)\n",
            "Requirement already satisfied: more-itertools in /usr/local/lib/python3.11/dist-packages (from jaraco.classes->keyring<26.0.0,>=25.1.0->poetry) (10.6.0)\n",
            "Collecting backports.tarfile (from jaraco.context->keyring<26.0.0,>=25.1.0->poetry)\n",
            "  Downloading backports.tarfile-1.2.0-py3-none-any.whl.metadata (2.0 kB)\n",
            "Requirement already satisfied: sniffio>=1.1 in /usr/local/lib/python3.11/dist-packages (from anyio->httpx<1,>=0.27.0->pbs-installer[download,install]<2026.0.0,>=2025.1.6->poetry) (1.3.1)\n",
            "Downloading poetry-2.1.1-py3-none-any.whl (277 kB)\n",
            "\u001b[2K   \u001b[90m━━━━━━━━━━━━━━━━━━━━━━━━━━━━━━━━━━━━━━━━\u001b[0m \u001b[32m277.7/277.7 kB\u001b[0m \u001b[31m11.2 MB/s\u001b[0m eta \u001b[36m0:00:00\u001b[0m\n",
            "\u001b[?25hDownloading poetry_core-2.1.1-py3-none-any.whl (331 kB)\n",
            "\u001b[2K   \u001b[90m━━━━━━━━━━━━━━━━━━━━━━━━━━━━━━━━━━━━━━━━\u001b[0m \u001b[32m331.2/331.2 kB\u001b[0m \u001b[31m26.1 MB/s\u001b[0m eta \u001b[36m0:00:00\u001b[0m\n",
            "\u001b[?25hDownloading build-1.2.2.post1-py3-none-any.whl (22 kB)\n",
            "Downloading cleo-2.1.0-py3-none-any.whl (78 kB)\n",
            "\u001b[2K   \u001b[90m━━━━━━━━━━━━━━━━━━━━━━━━━━━━━━━━━━━━━━━━\u001b[0m \u001b[32m78.7/78.7 kB\u001b[0m \u001b[31m7.8 MB/s\u001b[0m eta \u001b[36m0:00:00\u001b[0m\n",
            "\u001b[?25hDownloading dulwich-0.22.8-cp311-cp311-manylinux_2_17_x86_64.manylinux2014_x86_64.whl (1.0 MB)\n",
            "\u001b[2K   \u001b[90m━━━━━━━━━━━━━━━━━━━━━━━━━━━━━━━━━━━━━━━━\u001b[0m \u001b[32m1.0/1.0 MB\u001b[0m \u001b[31m54.8 MB/s\u001b[0m eta \u001b[36m0:00:00\u001b[0m\n",
            "\u001b[?25hDownloading findpython-0.6.2-py3-none-any.whl (20 kB)\n",
            "Downloading installer-0.7.0-py3-none-any.whl (453 kB)\n",
            "\u001b[2K   \u001b[90m━━━━━━━━━━━━━━━━━━━━━━━━━━━━━━━━━━━━━━━━\u001b[0m \u001b[32m453.8/453.8 kB\u001b[0m \u001b[31m39.6 MB/s\u001b[0m eta \u001b[36m0:00:00\u001b[0m\n",
            "\u001b[?25hDownloading keyring-25.6.0-py3-none-any.whl (39 kB)\n",
            "Downloading pbs_installer-2025.2.12-py3-none-any.whl (53 kB)\n",
            "\u001b[2K   \u001b[90m━━━━━━━━━━━━━━━━━━━━━━━━━━━━━━━━━━━━━━━━\u001b[0m \u001b[32m53.2/53.2 kB\u001b[0m \u001b[31m5.4 MB/s\u001b[0m eta \u001b[36m0:00:00\u001b[0m\n",
            "\u001b[?25hDownloading pkginfo-1.12.1.2-py3-none-any.whl (32 kB)\n",
            "Downloading pyproject_hooks-1.2.0-py3-none-any.whl (10 kB)\n",
            "Downloading tomlkit-0.13.2-py3-none-any.whl (37 kB)\n",
            "Downloading trove_classifiers-2025.3.3.18-py3-none-any.whl (13 kB)\n",
            "Downloading virtualenv-20.29.2-py3-none-any.whl (4.3 MB)\n",
            "\u001b[2K   \u001b[90m━━━━━━━━━━━━━━━━━━━━━━━━━━━━━━━━━━━━━━━━\u001b[0m \u001b[32m4.3/4.3 MB\u001b[0m \u001b[31m53.8 MB/s\u001b[0m eta \u001b[36m0:00:00\u001b[0m\n",
            "\u001b[?25hDownloading crashtest-0.4.1-py3-none-any.whl (7.6 kB)\n",
            "Downloading distlib-0.3.9-py2.py3-none-any.whl (468 kB)\n",
            "\u001b[2K   \u001b[90m━━━━━━━━━━━━━━━━━━━━━━━━━━━━━━━━━━━━━━━━\u001b[0m \u001b[32m469.0/469.0 kB\u001b[0m \u001b[31m40.2 MB/s\u001b[0m eta \u001b[36m0:00:00\u001b[0m\n",
            "\u001b[?25hDownloading rapidfuzz-3.12.2-cp311-cp311-manylinux_2_17_x86_64.manylinux2014_x86_64.whl (3.1 MB)\n",
            "\u001b[2K   \u001b[90m━━━━━━━━━━━━━━━━━━━━━━━━━━━━━━━━━━━━━━━━\u001b[0m \u001b[32m3.1/3.1 MB\u001b[0m \u001b[31m103.4 MB/s\u001b[0m eta \u001b[36m0:00:00\u001b[0m\n",
            "\u001b[?25hDownloading jaraco.classes-3.4.0-py3-none-any.whl (6.8 kB)\n",
            "Downloading jaraco.context-6.0.1-py3-none-any.whl (6.8 kB)\n",
            "Downloading jaraco.functools-4.1.0-py3-none-any.whl (10 kB)\n",
            "Downloading backports.tarfile-1.2.0-py3-none-any.whl (30 kB)\n",
            "Installing collected packages: trove-classifiers, distlib, virtualenv, tomlkit, rapidfuzz, pyproject-hooks, poetry-core, pkginfo, pbs-installer, jaraco.functools, jaraco.classes, installer, findpython, dulwich, crashtest, backports.tarfile, jaraco.context, cleo, build, keyring, poetry\n",
            "  Attempting uninstall: keyring\n",
            "    Found existing installation: keyring 23.5.0\n",
            "    Uninstalling keyring-23.5.0:\n",
            "      Successfully uninstalled keyring-23.5.0\n",
            "Successfully installed backports.tarfile-1.2.0 build-1.2.2.post1 cleo-2.1.0 crashtest-0.4.1 distlib-0.3.9 dulwich-0.22.8 findpython-0.6.2 installer-0.7.0 jaraco.classes-3.4.0 jaraco.context-6.0.1 jaraco.functools-4.1.0 keyring-25.6.0 pbs-installer-2025.2.12 pkginfo-1.12.1.2 poetry-2.1.1 poetry-core-2.1.1 pyproject-hooks-1.2.0 rapidfuzz-3.12.2 tomlkit-0.13.2 trove-classifiers-2025.3.3.18 virtualenv-20.29.2\n"
          ]
        }
      ],
      "source": [
        "!pip install poetry"
      ]
    },
    {
      "cell_type": "code",
      "execution_count": 4,
      "metadata": {
        "id": "ItKADk2xctiq",
        "outputId": "518d604b-d4ab-482d-fe47-fa101291afbd",
        "colab": {
          "base_uri": "https://localhost:8080/"
        }
      },
      "outputs": [
        {
          "output_type": "stream",
          "name": "stdout",
          "text": [
            "Mounted at /content/drive\n"
          ]
        }
      ],
      "source": [
        "import os\n",
        "from google.colab import drive\n",
        "drive.mount('/content/drive')\n",
        "os.chdir(\"/content/drive/MyDrive/Sam_LoRA\")\n"
      ]
    },
    {
      "cell_type": "code",
      "execution_count": 21,
      "metadata": {
        "id": "oOWZChi1cAR7"
      },
      "outputs": [],
      "source": [
        "!poetry config virtualenvs.in-project false"
      ]
    },
    {
      "cell_type": "code",
      "execution_count": 132,
      "metadata": {
        "colab": {
          "base_uri": "https://localhost:8080/"
        },
        "id": "_y1XlptMc2WT",
        "outputId": "d1fe6a5c-5154-4834-cdb8-c31fae294be8"
      },
      "outputs": [
        {
          "output_type": "stream",
          "name": "stdout",
          "text": [
            "\u001b[34mUpdating dependencies\u001b[39m\n",
            "\u001b[2K\u001b[34mResolving dependencies...\u001b[39m \u001b[39;2m(5.4s)\u001b[39;22m\n",
            "\n",
            "\u001b[39;1mPackage operations\u001b[39;22m: \u001b[34m0\u001b[39m installs, \u001b[34m2\u001b[39m updates, \u001b[34m0\u001b[39m removals\n",
            "\n",
            "  \u001b[34;1m-\u001b[39;22m \u001b[39mDowngrading \u001b[39m\u001b[36msympy\u001b[39m\u001b[39m (\u001b[39m\u001b[39;1m1.13.3\u001b[39;22m\u001b[39m -> \u001b[39m\u001b[39;1m1.13.1\u001b[39;22m\u001b[39m)\u001b[39m: \u001b[34mPending...\u001b[39m\n",
            "\u001b[1A\u001b[0J  \u001b[34;1m-\u001b[39;22m \u001b[39mDowngrading \u001b[39m\u001b[36msympy\u001b[39m\u001b[39m (\u001b[39m\u001b[39;1m1.13.3\u001b[39;22m\u001b[39m -> \u001b[39m\u001b[39;1m1.13.1\u001b[39;22m\u001b[39m)\u001b[39m: \u001b[34mDownloading...\u001b[39m \u001b[39;1m0%\u001b[39;22m\n",
            "\u001b[1A\u001b[0J  \u001b[34;1m-\u001b[39;22m \u001b[39mDowngrading \u001b[39m\u001b[36msympy\u001b[39m\u001b[39m (\u001b[39m\u001b[39;1m1.13.3\u001b[39;22m\u001b[39m -> \u001b[39m\u001b[39;1m1.13.1\u001b[39;22m\u001b[39m)\u001b[39m: \u001b[34mDownloading...\u001b[39m \u001b[39;1m100%\u001b[39;22m\n",
            "\u001b[1A\u001b[0J  \u001b[34;1m-\u001b[39;22m \u001b[39mDowngrading \u001b[39m\u001b[36msympy\u001b[39m\u001b[39m (\u001b[39m\u001b[39;1m1.13.3\u001b[39;22m\u001b[39m -> \u001b[39m\u001b[39;1m1.13.1\u001b[39;22m\u001b[39m)\u001b[39m: \u001b[34mInstalling...\u001b[39m\n",
            "\u001b[1A\u001b[0J  \u001b[32;1m-\u001b[39;22m \u001b[39mDowngrading \u001b[39m\u001b[36msympy\u001b[39m\u001b[39m (\u001b[39m\u001b[39;1m1.13.3\u001b[39;22m\u001b[39m -> \u001b[39m\u001b[32m1.13.1\u001b[39m\u001b[39m)\u001b[39m\n",
            "  \u001b[34;1m-\u001b[39;22m \u001b[39mUpdating \u001b[39m\u001b[36mtorch\u001b[39m\u001b[39m (\u001b[39m\u001b[39;1m2.0.1\u001b[39;22m\u001b[39m -> \u001b[39m\u001b[39;1m2.6.0\u001b[39;22m\u001b[39m)\u001b[39m: \u001b[34mPending...\u001b[39m\n",
            "\u001b[1A\u001b[0J  \u001b[34;1m-\u001b[39;22m \u001b[39mUpdating \u001b[39m\u001b[36mtorch\u001b[39m\u001b[39m (\u001b[39m\u001b[39;1m2.0.1\u001b[39;22m\u001b[39m -> \u001b[39m\u001b[39;1m2.6.0\u001b[39;22m\u001b[39m)\u001b[39m: \u001b[34mDownloading...\u001b[39m \u001b[39;1m0%\u001b[39;22m\n",
            "\u001b[1A\u001b[0J  \u001b[34;1m-\u001b[39;22m \u001b[39mUpdating \u001b[39m\u001b[36mtorch\u001b[39m\u001b[39m (\u001b[39m\u001b[39;1m2.0.1\u001b[39;22m\u001b[39m -> \u001b[39m\u001b[39;1m2.6.0\u001b[39;22m\u001b[39m)\u001b[39m: \u001b[34mDownloading...\u001b[39m \u001b[39;1m10%\u001b[39;22m\n",
            "\u001b[1A\u001b[0J  \u001b[34;1m-\u001b[39;22m \u001b[39mUpdating \u001b[39m\u001b[36mtorch\u001b[39m\u001b[39m (\u001b[39m\u001b[39;1m2.0.1\u001b[39;22m\u001b[39m -> \u001b[39m\u001b[39;1m2.6.0\u001b[39;22m\u001b[39m)\u001b[39m: \u001b[34mDownloading...\u001b[39m \u001b[39;1m20%\u001b[39;22m\n",
            "\u001b[1A\u001b[0J  \u001b[34;1m-\u001b[39;22m \u001b[39mUpdating \u001b[39m\u001b[36mtorch\u001b[39m\u001b[39m (\u001b[39m\u001b[39;1m2.0.1\u001b[39;22m\u001b[39m -> \u001b[39m\u001b[39;1m2.6.0\u001b[39;22m\u001b[39m)\u001b[39m: \u001b[34mDownloading...\u001b[39m \u001b[39;1m30%\u001b[39;22m\n",
            "\u001b[1A\u001b[0J  \u001b[34;1m-\u001b[39;22m \u001b[39mUpdating \u001b[39m\u001b[36mtorch\u001b[39m\u001b[39m (\u001b[39m\u001b[39;1m2.0.1\u001b[39;22m\u001b[39m -> \u001b[39m\u001b[39;1m2.6.0\u001b[39;22m\u001b[39m)\u001b[39m: \u001b[34mDownloading...\u001b[39m \u001b[39;1m40%\u001b[39;22m\n",
            "\u001b[1A\u001b[0J  \u001b[34;1m-\u001b[39;22m \u001b[39mUpdating \u001b[39m\u001b[36mtorch\u001b[39m\u001b[39m (\u001b[39m\u001b[39;1m2.0.1\u001b[39;22m\u001b[39m -> \u001b[39m\u001b[39;1m2.6.0\u001b[39;22m\u001b[39m)\u001b[39m: \u001b[34mDownloading...\u001b[39m \u001b[39;1m43%\u001b[39;22m\n",
            "\u001b[1A\u001b[0J  \u001b[34;1m-\u001b[39;22m \u001b[39mUpdating \u001b[39m\u001b[36mtorch\u001b[39m\u001b[39m (\u001b[39m\u001b[39;1m2.0.1\u001b[39;22m\u001b[39m -> \u001b[39m\u001b[39;1m2.6.0\u001b[39;22m\u001b[39m)\u001b[39m: \u001b[34mDownloading...\u001b[39m \u001b[39;1m44%\u001b[39;22m\n",
            "\u001b[1A\u001b[0J  \u001b[34;1m-\u001b[39;22m \u001b[39mUpdating \u001b[39m\u001b[36mtorch\u001b[39m\u001b[39m (\u001b[39m\u001b[39;1m2.0.1\u001b[39;22m\u001b[39m -> \u001b[39m\u001b[39;1m2.6.0\u001b[39;22m\u001b[39m)\u001b[39m: \u001b[34mDownloading...\u001b[39m \u001b[39;1m50%\u001b[39;22m\n",
            "\u001b[1A\u001b[0J  \u001b[34;1m-\u001b[39;22m \u001b[39mUpdating \u001b[39m\u001b[36mtorch\u001b[39m\u001b[39m (\u001b[39m\u001b[39;1m2.0.1\u001b[39;22m\u001b[39m -> \u001b[39m\u001b[39;1m2.6.0\u001b[39;22m\u001b[39m)\u001b[39m: \u001b[34mDownloading...\u001b[39m \u001b[39;1m60%\u001b[39;22m\n",
            "\u001b[1A\u001b[0J  \u001b[34;1m-\u001b[39;22m \u001b[39mUpdating \u001b[39m\u001b[36mtorch\u001b[39m\u001b[39m (\u001b[39m\u001b[39;1m2.0.1\u001b[39;22m\u001b[39m -> \u001b[39m\u001b[39;1m2.6.0\u001b[39;22m\u001b[39m)\u001b[39m: \u001b[34mDownloading...\u001b[39m \u001b[39;1m70%\u001b[39;22m\n",
            "\u001b[1A\u001b[0J  \u001b[34;1m-\u001b[39;22m \u001b[39mUpdating \u001b[39m\u001b[36mtorch\u001b[39m\u001b[39m (\u001b[39m\u001b[39;1m2.0.1\u001b[39;22m\u001b[39m -> \u001b[39m\u001b[39;1m2.6.0\u001b[39;22m\u001b[39m)\u001b[39m: \u001b[34mDownloading...\u001b[39m \u001b[39;1m80%\u001b[39;22m\n",
            "\u001b[1A\u001b[0J  \u001b[34;1m-\u001b[39;22m \u001b[39mUpdating \u001b[39m\u001b[36mtorch\u001b[39m\u001b[39m (\u001b[39m\u001b[39;1m2.0.1\u001b[39;22m\u001b[39m -> \u001b[39m\u001b[39;1m2.6.0\u001b[39;22m\u001b[39m)\u001b[39m: \u001b[34mDownloading...\u001b[39m \u001b[39;1m90%\u001b[39;22m\n",
            "\u001b[1A\u001b[0J  \u001b[34;1m-\u001b[39;22m \u001b[39mUpdating \u001b[39m\u001b[36mtorch\u001b[39m\u001b[39m (\u001b[39m\u001b[39;1m2.0.1\u001b[39;22m\u001b[39m -> \u001b[39m\u001b[39;1m2.6.0\u001b[39;22m\u001b[39m)\u001b[39m: \u001b[34mDownloading...\u001b[39m \u001b[39;1m100%\u001b[39;22m\n",
            "\u001b[1A\u001b[0J  \u001b[34;1m-\u001b[39;22m \u001b[39mUpdating \u001b[39m\u001b[36mtorch\u001b[39m\u001b[39m (\u001b[39m\u001b[39;1m2.0.1\u001b[39;22m\u001b[39m -> \u001b[39m\u001b[39;1m2.6.0\u001b[39;22m\u001b[39m)\u001b[39m: \u001b[34mInstalling...\u001b[39m\n",
            "\u001b[1A\u001b[0J  \u001b[32;1m-\u001b[39;22m \u001b[39mUpdating \u001b[39m\u001b[36mtorch\u001b[39m\u001b[39m (\u001b[39m\u001b[39;1m2.0.1\u001b[39;22m\u001b[39m -> \u001b[39m\u001b[32m2.6.0\u001b[39m\u001b[39m)\u001b[39m\n",
            "\n",
            "\u001b[34mWriting lock file\u001b[39m\n",
            "\n",
            "\u001b[39;1mInstalling\u001b[39;22m the current project: \u001b[36msam-lora-poetry\u001b[39m (\u001b[39;1m0.1.0\u001b[39;22m)\u001b[1G\u001b[2K\u001b[39;1mInstalling\u001b[39;22m the current project: \u001b[36msam-lora-poetry\u001b[39m (\u001b[32m0.1.0\u001b[39m)\n"
          ]
        }
      ],
      "source": [
        "!poetry install --all-extras"
      ]
    },
    {
      "cell_type": "markdown",
      "metadata": {
        "id": "ACCjqapZibaE"
      },
      "source": [
        "It seems that poetry has some trouble with colab for torch, cv2 and safetensors libraries so I manualy added it.\n",
        "\n",
        "If you run on a local machine, no need to do the poetry run as follows"
      ]
    },
    {
      "cell_type": "code",
      "execution_count": 133,
      "metadata": {
        "colab": {
          "base_uri": "https://localhost:8080/"
        },
        "id": "MG6nj_n4iHZT",
        "outputId": "f84b0b0a-5819-499d-ea89-927736f4f328"
      },
      "outputs": [
        {
          "output_type": "stream",
          "name": "stdout",
          "text": [
            "Requirement already satisfied: gradio in /root/.cache/pypoetry/virtualenvs/sam-lora-poetry-UmLmzm1d-py3.11/lib/python3.11/site-packages (3.50.2)\n",
            "Collecting gradio\n",
            "  Using cached gradio-5.20.0-py3-none-any.whl.metadata (16 kB)\n",
            "Requirement already satisfied: safetensors in /root/.cache/pypoetry/virtualenvs/sam-lora-poetry-UmLmzm1d-py3.11/lib/python3.11/site-packages (0.3.3)\n",
            "Collecting safetensors\n",
            "  Using cached safetensors-0.5.3-cp38-abi3-manylinux_2_17_x86_64.manylinux2014_x86_64.whl.metadata (3.8 kB)\n",
            "Requirement already satisfied: opencv-python in /root/.cache/pypoetry/virtualenvs/sam-lora-poetry-UmLmzm1d-py3.11/lib/python3.11/site-packages (4.11.0.86)\n",
            "Requirement already satisfied: aiofiles<24.0,>=22.0 in /root/.cache/pypoetry/virtualenvs/sam-lora-poetry-UmLmzm1d-py3.11/lib/python3.11/site-packages (from gradio) (23.2.1)\n",
            "Requirement already satisfied: anyio<5.0,>=3.0 in /root/.cache/pypoetry/virtualenvs/sam-lora-poetry-UmLmzm1d-py3.11/lib/python3.11/site-packages (from gradio) (4.8.0)\n",
            "Requirement already satisfied: fastapi<1.0,>=0.115.2 in /root/.cache/pypoetry/virtualenvs/sam-lora-poetry-UmLmzm1d-py3.11/lib/python3.11/site-packages (from gradio) (0.115.11)\n",
            "Requirement already satisfied: ffmpy in /root/.cache/pypoetry/virtualenvs/sam-lora-poetry-UmLmzm1d-py3.11/lib/python3.11/site-packages (from gradio) (0.5.0)\n",
            "Collecting gradio-client==1.7.2 (from gradio)\n",
            "  Using cached gradio_client-1.7.2-py3-none-any.whl.metadata (7.1 kB)\n",
            "Requirement already satisfied: groovy~=0.1 in /root/.cache/pypoetry/virtualenvs/sam-lora-poetry-UmLmzm1d-py3.11/lib/python3.11/site-packages (from gradio) (0.1.2)\n",
            "Requirement already satisfied: httpx>=0.24.1 in /root/.cache/pypoetry/virtualenvs/sam-lora-poetry-UmLmzm1d-py3.11/lib/python3.11/site-packages (from gradio) (0.28.1)\n",
            "Requirement already satisfied: huggingface-hub>=0.28.1 in /root/.cache/pypoetry/virtualenvs/sam-lora-poetry-UmLmzm1d-py3.11/lib/python3.11/site-packages (from gradio) (0.29.1)\n",
            "Requirement already satisfied: jinja2<4.0 in /root/.cache/pypoetry/virtualenvs/sam-lora-poetry-UmLmzm1d-py3.11/lib/python3.11/site-packages (from gradio) (3.1.5)\n",
            "Requirement already satisfied: markupsafe~=2.0 in /root/.cache/pypoetry/virtualenvs/sam-lora-poetry-UmLmzm1d-py3.11/lib/python3.11/site-packages (from gradio) (2.1.5)\n",
            "Requirement already satisfied: numpy<3.0,>=1.0 in /root/.cache/pypoetry/virtualenvs/sam-lora-poetry-UmLmzm1d-py3.11/lib/python3.11/site-packages (from gradio) (1.26.4)\n",
            "Requirement already satisfied: orjson~=3.0 in /root/.cache/pypoetry/virtualenvs/sam-lora-poetry-UmLmzm1d-py3.11/lib/python3.11/site-packages (from gradio) (3.10.15)\n",
            "Requirement already satisfied: packaging in /root/.cache/pypoetry/virtualenvs/sam-lora-poetry-UmLmzm1d-py3.11/lib/python3.11/site-packages (from gradio) (24.2)\n",
            "Requirement already satisfied: pandas<3.0,>=1.0 in /root/.cache/pypoetry/virtualenvs/sam-lora-poetry-UmLmzm1d-py3.11/lib/python3.11/site-packages (from gradio) (2.2.3)\n",
            "Requirement already satisfied: pillow<12.0,>=8.0 in /root/.cache/pypoetry/virtualenvs/sam-lora-poetry-UmLmzm1d-py3.11/lib/python3.11/site-packages (from gradio) (10.4.0)\n",
            "Requirement already satisfied: pydantic>=2.0 in /root/.cache/pypoetry/virtualenvs/sam-lora-poetry-UmLmzm1d-py3.11/lib/python3.11/site-packages (from gradio) (2.10.6)\n",
            "Requirement already satisfied: pydub in /root/.cache/pypoetry/virtualenvs/sam-lora-poetry-UmLmzm1d-py3.11/lib/python3.11/site-packages (from gradio) (0.25.1)\n",
            "Requirement already satisfied: python-multipart>=0.0.18 in /root/.cache/pypoetry/virtualenvs/sam-lora-poetry-UmLmzm1d-py3.11/lib/python3.11/site-packages (from gradio) (0.0.20)\n",
            "Requirement already satisfied: pyyaml<7.0,>=5.0 in /root/.cache/pypoetry/virtualenvs/sam-lora-poetry-UmLmzm1d-py3.11/lib/python3.11/site-packages (from gradio) (6.0.2)\n",
            "Requirement already satisfied: ruff>=0.9.3 in /root/.cache/pypoetry/virtualenvs/sam-lora-poetry-UmLmzm1d-py3.11/lib/python3.11/site-packages (from gradio) (0.9.9)\n",
            "Requirement already satisfied: safehttpx<0.2.0,>=0.1.6 in /root/.cache/pypoetry/virtualenvs/sam-lora-poetry-UmLmzm1d-py3.11/lib/python3.11/site-packages (from gradio) (0.1.6)\n",
            "Requirement already satisfied: semantic-version~=2.0 in /root/.cache/pypoetry/virtualenvs/sam-lora-poetry-UmLmzm1d-py3.11/lib/python3.11/site-packages (from gradio) (2.10.0)\n",
            "Requirement already satisfied: starlette<1.0,>=0.40.0 in /root/.cache/pypoetry/virtualenvs/sam-lora-poetry-UmLmzm1d-py3.11/lib/python3.11/site-packages (from gradio) (0.46.0)\n",
            "Requirement already satisfied: tomlkit<0.14.0,>=0.12.0 in /root/.cache/pypoetry/virtualenvs/sam-lora-poetry-UmLmzm1d-py3.11/lib/python3.11/site-packages (from gradio) (0.13.2)\n",
            "Requirement already satisfied: typer<1.0,>=0.12 in /root/.cache/pypoetry/virtualenvs/sam-lora-poetry-UmLmzm1d-py3.11/lib/python3.11/site-packages (from gradio) (0.15.2)\n",
            "Requirement already satisfied: typing-extensions~=4.0 in /root/.cache/pypoetry/virtualenvs/sam-lora-poetry-UmLmzm1d-py3.11/lib/python3.11/site-packages (from gradio) (4.12.2)\n",
            "Requirement already satisfied: uvicorn>=0.14.0 in /root/.cache/pypoetry/virtualenvs/sam-lora-poetry-UmLmzm1d-py3.11/lib/python3.11/site-packages (from gradio) (0.34.0)\n",
            "Requirement already satisfied: fsspec in /root/.cache/pypoetry/virtualenvs/sam-lora-poetry-UmLmzm1d-py3.11/lib/python3.11/site-packages (from gradio-client==1.7.2->gradio) (2025.2.0)\n",
            "Requirement already satisfied: websockets<16.0,>=10.0 in /root/.cache/pypoetry/virtualenvs/sam-lora-poetry-UmLmzm1d-py3.11/lib/python3.11/site-packages (from gradio-client==1.7.2->gradio) (11.0.3)\n",
            "Requirement already satisfied: idna>=2.8 in /root/.cache/pypoetry/virtualenvs/sam-lora-poetry-UmLmzm1d-py3.11/lib/python3.11/site-packages (from anyio<5.0,>=3.0->gradio) (3.10)\n",
            "Requirement already satisfied: sniffio>=1.1 in /root/.cache/pypoetry/virtualenvs/sam-lora-poetry-UmLmzm1d-py3.11/lib/python3.11/site-packages (from anyio<5.0,>=3.0->gradio) (1.3.1)\n",
            "Requirement already satisfied: certifi in /root/.cache/pypoetry/virtualenvs/sam-lora-poetry-UmLmzm1d-py3.11/lib/python3.11/site-packages (from httpx>=0.24.1->gradio) (2025.1.31)\n",
            "Requirement already satisfied: httpcore==1.* in /root/.cache/pypoetry/virtualenvs/sam-lora-poetry-UmLmzm1d-py3.11/lib/python3.11/site-packages (from httpx>=0.24.1->gradio) (1.0.7)\n",
            "Requirement already satisfied: h11<0.15,>=0.13 in /root/.cache/pypoetry/virtualenvs/sam-lora-poetry-UmLmzm1d-py3.11/lib/python3.11/site-packages (from httpcore==1.*->httpx>=0.24.1->gradio) (0.14.0)\n",
            "Requirement already satisfied: filelock in /root/.cache/pypoetry/virtualenvs/sam-lora-poetry-UmLmzm1d-py3.11/lib/python3.11/site-packages (from huggingface-hub>=0.28.1->gradio) (3.17.0)\n",
            "Requirement already satisfied: requests in /root/.cache/pypoetry/virtualenvs/sam-lora-poetry-UmLmzm1d-py3.11/lib/python3.11/site-packages (from huggingface-hub>=0.28.1->gradio) (2.32.3)\n",
            "Requirement already satisfied: tqdm>=4.42.1 in /root/.cache/pypoetry/virtualenvs/sam-lora-poetry-UmLmzm1d-py3.11/lib/python3.11/site-packages (from huggingface-hub>=0.28.1->gradio) (4.67.1)\n",
            "Requirement already satisfied: python-dateutil>=2.8.2 in /root/.cache/pypoetry/virtualenvs/sam-lora-poetry-UmLmzm1d-py3.11/lib/python3.11/site-packages (from pandas<3.0,>=1.0->gradio) (2.9.0.post0)\n",
            "Requirement already satisfied: pytz>=2020.1 in /root/.cache/pypoetry/virtualenvs/sam-lora-poetry-UmLmzm1d-py3.11/lib/python3.11/site-packages (from pandas<3.0,>=1.0->gradio) (2025.1)\n",
            "Requirement already satisfied: tzdata>=2022.7 in /root/.cache/pypoetry/virtualenvs/sam-lora-poetry-UmLmzm1d-py3.11/lib/python3.11/site-packages (from pandas<3.0,>=1.0->gradio) (2025.1)\n",
            "Requirement already satisfied: annotated-types>=0.6.0 in /root/.cache/pypoetry/virtualenvs/sam-lora-poetry-UmLmzm1d-py3.11/lib/python3.11/site-packages (from pydantic>=2.0->gradio) (0.7.0)\n",
            "Requirement already satisfied: pydantic-core==2.27.2 in /root/.cache/pypoetry/virtualenvs/sam-lora-poetry-UmLmzm1d-py3.11/lib/python3.11/site-packages (from pydantic>=2.0->gradio) (2.27.2)\n",
            "Requirement already satisfied: click>=8.0.0 in /root/.cache/pypoetry/virtualenvs/sam-lora-poetry-UmLmzm1d-py3.11/lib/python3.11/site-packages (from typer<1.0,>=0.12->gradio) (8.1.8)\n",
            "Requirement already satisfied: shellingham>=1.3.0 in /root/.cache/pypoetry/virtualenvs/sam-lora-poetry-UmLmzm1d-py3.11/lib/python3.11/site-packages (from typer<1.0,>=0.12->gradio) (1.5.4)\n",
            "Requirement already satisfied: rich>=10.11.0 in /root/.cache/pypoetry/virtualenvs/sam-lora-poetry-UmLmzm1d-py3.11/lib/python3.11/site-packages (from typer<1.0,>=0.12->gradio) (13.9.4)\n",
            "Requirement already satisfied: six>=1.5 in /root/.cache/pypoetry/virtualenvs/sam-lora-poetry-UmLmzm1d-py3.11/lib/python3.11/site-packages (from python-dateutil>=2.8.2->pandas<3.0,>=1.0->gradio) (1.17.0)\n",
            "Requirement already satisfied: markdown-it-py>=2.2.0 in /root/.cache/pypoetry/virtualenvs/sam-lora-poetry-UmLmzm1d-py3.11/lib/python3.11/site-packages (from rich>=10.11.0->typer<1.0,>=0.12->gradio) (3.0.0)\n",
            "Requirement already satisfied: pygments<3.0.0,>=2.13.0 in /root/.cache/pypoetry/virtualenvs/sam-lora-poetry-UmLmzm1d-py3.11/lib/python3.11/site-packages (from rich>=10.11.0->typer<1.0,>=0.12->gradio) (2.19.1)\n",
            "Requirement already satisfied: charset-normalizer<4,>=2 in /root/.cache/pypoetry/virtualenvs/sam-lora-poetry-UmLmzm1d-py3.11/lib/python3.11/site-packages (from requests->huggingface-hub>=0.28.1->gradio) (3.4.1)\n",
            "Requirement already satisfied: urllib3<3,>=1.21.1 in /root/.cache/pypoetry/virtualenvs/sam-lora-poetry-UmLmzm1d-py3.11/lib/python3.11/site-packages (from requests->huggingface-hub>=0.28.1->gradio) (2.3.0)\n",
            "Requirement already satisfied: mdurl~=0.1 in /root/.cache/pypoetry/virtualenvs/sam-lora-poetry-UmLmzm1d-py3.11/lib/python3.11/site-packages (from markdown-it-py>=2.2.0->rich>=10.11.0->typer<1.0,>=0.12->gradio) (0.1.2)\n",
            "Using cached gradio-5.20.0-py3-none-any.whl (62.3 MB)\n",
            "Using cached gradio_client-1.7.2-py3-none-any.whl (322 kB)\n",
            "Using cached safetensors-0.5.3-cp38-abi3-manylinux_2_17_x86_64.manylinux2014_x86_64.whl (471 kB)\n",
            "Installing collected packages: safetensors, gradio-client, gradio\n",
            "  Attempting uninstall: safetensors\n",
            "    Found existing installation: safetensors 0.3.3\n",
            "    Uninstalling safetensors-0.3.3:\n",
            "      Successfully uninstalled safetensors-0.3.3\n",
            "  Attempting uninstall: gradio-client\n",
            "    Found existing installation: gradio_client 0.6.1\n",
            "    Uninstalling gradio_client-0.6.1:\n",
            "      Successfully uninstalled gradio_client-0.6.1\n",
            "  Attempting uninstall: gradio\n",
            "    Found existing installation: gradio 3.50.2\n",
            "    Uninstalling gradio-3.50.2:\n",
            "      Successfully uninstalled gradio-3.50.2\n",
            "\u001b[31mERROR: pip's dependency resolver does not currently take into account all the packages that are installed. This behaviour is the source of the following dependency conflicts.\n",
            "sam-lora-poetry 0.1.0 requires gradio==3.50.2, but you have gradio 5.20.0 which is incompatible.\n",
            "sam-lora-poetry 0.1.0 requires safetensors==0.3.3, but you have safetensors 0.5.3 which is incompatible.\u001b[0m\u001b[31m\n",
            "\u001b[0mSuccessfully installed gradio-5.20.0 gradio-client-1.7.2 safetensors-0.5.3\n",
            "Looking in indexes: https://pypi.org/simple, https://download.pytorch.org/whl/cu117\n",
            "Requirement already satisfied: torch in /root/.cache/pypoetry/virtualenvs/sam-lora-poetry-UmLmzm1d-py3.11/lib/python3.11/site-packages (2.6.0)\n",
            "Requirement already satisfied: torchvision in /root/.cache/pypoetry/virtualenvs/sam-lora-poetry-UmLmzm1d-py3.11/lib/python3.11/site-packages (0.15.2)\n",
            "Requirement already satisfied: filelock in /root/.cache/pypoetry/virtualenvs/sam-lora-poetry-UmLmzm1d-py3.11/lib/python3.11/site-packages (from torch) (3.17.0)\n",
            "Requirement already satisfied: typing-extensions>=4.10.0 in /root/.cache/pypoetry/virtualenvs/sam-lora-poetry-UmLmzm1d-py3.11/lib/python3.11/site-packages (from torch) (4.12.2)\n",
            "Requirement already satisfied: networkx in /root/.cache/pypoetry/virtualenvs/sam-lora-poetry-UmLmzm1d-py3.11/lib/python3.11/site-packages (from torch) (3.4.2)\n",
            "Requirement already satisfied: jinja2 in /root/.cache/pypoetry/virtualenvs/sam-lora-poetry-UmLmzm1d-py3.11/lib/python3.11/site-packages (from torch) (3.1.5)\n",
            "Requirement already satisfied: fsspec in /root/.cache/pypoetry/virtualenvs/sam-lora-poetry-UmLmzm1d-py3.11/lib/python3.11/site-packages (from torch) (2025.2.0)\n",
            "Requirement already satisfied: nvidia-cuda-nvrtc-cu12==12.4.127 in /root/.cache/pypoetry/virtualenvs/sam-lora-poetry-UmLmzm1d-py3.11/lib/python3.11/site-packages (from torch) (12.4.127)\n",
            "Requirement already satisfied: nvidia-cuda-runtime-cu12==12.4.127 in /root/.cache/pypoetry/virtualenvs/sam-lora-poetry-UmLmzm1d-py3.11/lib/python3.11/site-packages (from torch) (12.4.127)\n",
            "Requirement already satisfied: nvidia-cuda-cupti-cu12==12.4.127 in /root/.cache/pypoetry/virtualenvs/sam-lora-poetry-UmLmzm1d-py3.11/lib/python3.11/site-packages (from torch) (12.4.127)\n",
            "Requirement already satisfied: nvidia-cudnn-cu12==9.1.0.70 in /root/.cache/pypoetry/virtualenvs/sam-lora-poetry-UmLmzm1d-py3.11/lib/python3.11/site-packages (from torch) (9.1.0.70)\n",
            "Requirement already satisfied: nvidia-cublas-cu12==12.4.5.8 in /root/.cache/pypoetry/virtualenvs/sam-lora-poetry-UmLmzm1d-py3.11/lib/python3.11/site-packages (from torch) (12.4.5.8)\n",
            "Requirement already satisfied: nvidia-cufft-cu12==11.2.1.3 in /root/.cache/pypoetry/virtualenvs/sam-lora-poetry-UmLmzm1d-py3.11/lib/python3.11/site-packages (from torch) (11.2.1.3)\n",
            "Requirement already satisfied: nvidia-curand-cu12==10.3.5.147 in /root/.cache/pypoetry/virtualenvs/sam-lora-poetry-UmLmzm1d-py3.11/lib/python3.11/site-packages (from torch) (10.3.5.147)\n",
            "Requirement already satisfied: nvidia-cusolver-cu12==11.6.1.9 in /root/.cache/pypoetry/virtualenvs/sam-lora-poetry-UmLmzm1d-py3.11/lib/python3.11/site-packages (from torch) (11.6.1.9)\n",
            "Requirement already satisfied: nvidia-cusparse-cu12==12.3.1.170 in /root/.cache/pypoetry/virtualenvs/sam-lora-poetry-UmLmzm1d-py3.11/lib/python3.11/site-packages (from torch) (12.3.1.170)\n",
            "Requirement already satisfied: nvidia-cusparselt-cu12==0.6.2 in /root/.cache/pypoetry/virtualenvs/sam-lora-poetry-UmLmzm1d-py3.11/lib/python3.11/site-packages (from torch) (0.6.2)\n",
            "Requirement already satisfied: nvidia-nccl-cu12==2.21.5 in /root/.cache/pypoetry/virtualenvs/sam-lora-poetry-UmLmzm1d-py3.11/lib/python3.11/site-packages (from torch) (2.21.5)\n",
            "Requirement already satisfied: nvidia-nvtx-cu12==12.4.127 in /root/.cache/pypoetry/virtualenvs/sam-lora-poetry-UmLmzm1d-py3.11/lib/python3.11/site-packages (from torch) (12.4.127)\n",
            "Requirement already satisfied: nvidia-nvjitlink-cu12==12.4.127 in /root/.cache/pypoetry/virtualenvs/sam-lora-poetry-UmLmzm1d-py3.11/lib/python3.11/site-packages (from torch) (12.4.127)\n",
            "Requirement already satisfied: triton==3.2.0 in /root/.cache/pypoetry/virtualenvs/sam-lora-poetry-UmLmzm1d-py3.11/lib/python3.11/site-packages (from torch) (3.2.0)\n",
            "Requirement already satisfied: sympy==1.13.1 in /root/.cache/pypoetry/virtualenvs/sam-lora-poetry-UmLmzm1d-py3.11/lib/python3.11/site-packages (from torch) (1.13.1)\n",
            "Requirement already satisfied: mpmath<1.4,>=1.1.0 in /root/.cache/pypoetry/virtualenvs/sam-lora-poetry-UmLmzm1d-py3.11/lib/python3.11/site-packages (from sympy==1.13.1->torch) (1.3.0)\n",
            "Requirement already satisfied: numpy in /root/.cache/pypoetry/virtualenvs/sam-lora-poetry-UmLmzm1d-py3.11/lib/python3.11/site-packages (from torchvision) (1.26.4)\n",
            "Requirement already satisfied: requests in /root/.cache/pypoetry/virtualenvs/sam-lora-poetry-UmLmzm1d-py3.11/lib/python3.11/site-packages (from torchvision) (2.32.3)\n",
            "Collecting torch\n",
            "  Downloading https://download.pytorch.org/whl/cu117/torch-2.0.1%2Bcu117-cp311-cp311-linux_x86_64.whl (1843.9 MB)\n",
            "\u001b[2K     \u001b[90m━━━━━━━━━━━━━━━━━━━━━━━━━━━━━━━━━━━━━━━━\u001b[0m \u001b[32m1.8/1.8 GB\u001b[0m \u001b[31m15.2 MB/s\u001b[0m eta \u001b[36m0:00:00\u001b[0m\n",
            "\u001b[?25hRequirement already satisfied: pillow!=8.3.*,>=5.3.0 in /root/.cache/pypoetry/virtualenvs/sam-lora-poetry-UmLmzm1d-py3.11/lib/python3.11/site-packages (from torchvision) (10.4.0)\n",
            "Collecting triton==2.0.0 (from torch)\n",
            "  Downloading https://download.pytorch.org/whl/triton-2.0.0-1-cp311-cp311-manylinux2014_x86_64.manylinux_2_17_x86_64.whl (63.3 MB)\n",
            "\u001b[2K     \u001b[90m━━━━━━━━━━━━━━━━━━━━━━━━━━━━━━━━━━━━━━━━\u001b[0m \u001b[32m63.3/63.3 MB\u001b[0m \u001b[31m65.4 MB/s\u001b[0m eta \u001b[36m0:00:00\u001b[0m\n",
            "\u001b[?25hCollecting cmake (from triton==2.0.0->torch)\n",
            "  Downloading cmake-3.31.6-py3-none-manylinux_2_17_x86_64.manylinux2014_x86_64.whl.metadata (6.3 kB)\n",
            "Collecting lit (from triton==2.0.0->torch)\n",
            "  Downloading lit-18.1.8-py3-none-any.whl.metadata (2.5 kB)\n",
            "Requirement already satisfied: MarkupSafe>=2.0 in /root/.cache/pypoetry/virtualenvs/sam-lora-poetry-UmLmzm1d-py3.11/lib/python3.11/site-packages (from jinja2->torch) (2.1.5)\n",
            "Requirement already satisfied: charset-normalizer<4,>=2 in /root/.cache/pypoetry/virtualenvs/sam-lora-poetry-UmLmzm1d-py3.11/lib/python3.11/site-packages (from requests->torchvision) (3.4.1)\n",
            "Requirement already satisfied: idna<4,>=2.5 in /root/.cache/pypoetry/virtualenvs/sam-lora-poetry-UmLmzm1d-py3.11/lib/python3.11/site-packages (from requests->torchvision) (3.10)\n",
            "Requirement already satisfied: urllib3<3,>=1.21.1 in /root/.cache/pypoetry/virtualenvs/sam-lora-poetry-UmLmzm1d-py3.11/lib/python3.11/site-packages (from requests->torchvision) (2.3.0)\n",
            "Requirement already satisfied: certifi>=2017.4.17 in /root/.cache/pypoetry/virtualenvs/sam-lora-poetry-UmLmzm1d-py3.11/lib/python3.11/site-packages (from requests->torchvision) (2025.1.31)\n",
            "Downloading cmake-3.31.6-py3-none-manylinux_2_17_x86_64.manylinux2014_x86_64.whl (27.8 MB)\n",
            "\u001b[2K   \u001b[90m━━━━━━━━━━━━━━━━━━━━━━━━━━━━━━━━━━━━━━━━\u001b[0m \u001b[32m27.8/27.8 MB\u001b[0m \u001b[31m115.7 MB/s\u001b[0m eta \u001b[36m0:00:00\u001b[0m\n",
            "\u001b[?25hDownloading lit-18.1.8-py3-none-any.whl (96 kB)\n",
            "Installing collected packages: lit, cmake, triton, torch\n",
            "  Attempting uninstall: triton\n",
            "    Found existing installation: triton 3.2.0\n",
            "    Uninstalling triton-3.2.0:\n",
            "      Successfully uninstalled triton-3.2.0\n",
            "  Attempting uninstall: torch\n",
            "    Found existing installation: torch 2.6.0\n",
            "    Uninstalling torch-2.6.0:\n",
            "      Successfully uninstalled torch-2.6.0\n",
            "Successfully installed cmake-3.31.6 lit-18.1.8 torch-2.0.1+cu117 triton-2.0.0\n"
          ]
        }
      ],
      "source": [
        "!poetry run pip install --upgrade gradio safetensors opencv-python\n",
        "!poetry run pip install torch torchvision --extra-index-url https://download.pytorch.org/whl/cu117\n"
      ]
    },
    {
      "cell_type": "markdown",
      "metadata": {
        "id": "-gqGccLijoZ6"
      },
      "source": [
        "Click on the public URL once running"
      ]
    },
    {
      "cell_type": "code",
      "execution_count": null,
      "metadata": {
        "colab": {
          "base_uri": "https://localhost:8080/"
        },
        "id": "POemyc0dMamh",
        "outputId": "907ef77f-6055-48a1-835a-55463cdae655"
      },
      "outputs": [
        {
          "output_type": "stream",
          "name": "stdout",
          "text": [
            "train\n",
            "cuda\n",
            "---------------\n",
            " 31% 5802/18444 [3:20:24<8:02:28,  2.29s/it]"
          ]
        }
      ],
      "source": [
        "!poetry run python train.py"
      ]
    },
    {
      "cell_type": "code",
      "execution_count": 11,
      "metadata": {
        "id": "15vLPZ2MVeiM",
        "outputId": "fec8a9e3-2e5b-4ce9-a3f8-261e2cfa7ab3",
        "colab": {
          "base_uri": "https://localhost:8080/"
        }
      },
      "outputs": [
        {
          "output_type": "stream",
          "name": "stdout",
          "text": [
            "Requirement already satisfied: matplotlib-inline in /usr/local/lib/python3.11/dist-packages (0.1.7)\n",
            "Requirement already satisfied: traitlets in /usr/local/lib/python3.11/dist-packages (from matplotlib-inline) (5.7.1)\n"
          ]
        }
      ],
      "source": [
        "!pip install matplotlib-inline\n"
      ]
    },
    {
      "cell_type": "code",
      "source": [
        "!pip install torch torchvision torchaudio --index-url https://download.pytorch.org/whl/cu118\n",
        "\n"
      ],
      "metadata": {
        "id": "zJL1PifyPdx9",
        "outputId": "2a7e0913-9ff7-481d-8a64-fa470bfd5e74",
        "colab": {
          "base_uri": "https://localhost:8080/"
        }
      },
      "execution_count": 18,
      "outputs": [
        {
          "output_type": "stream",
          "name": "stdout",
          "text": [
            "Looking in indexes: https://download.pytorch.org/whl/cu118\n",
            "Requirement already satisfied: torch in /usr/local/lib/python3.11/dist-packages (2.5.1+cu124)\n",
            "Requirement already satisfied: torchvision in /usr/local/lib/python3.11/dist-packages (0.20.1+cu124)\n",
            "Requirement already satisfied: torchaudio in /usr/local/lib/python3.11/dist-packages (2.5.1+cu124)\n",
            "Requirement already satisfied: filelock in /usr/local/lib/python3.11/dist-packages (from torch) (3.17.0)\n",
            "Requirement already satisfied: typing-extensions>=4.8.0 in /usr/local/lib/python3.11/dist-packages (from torch) (4.12.2)\n",
            "Requirement already satisfied: networkx in /usr/local/lib/python3.11/dist-packages (from torch) (3.4.2)\n",
            "Requirement already satisfied: jinja2 in /usr/local/lib/python3.11/dist-packages (from torch) (3.1.5)\n",
            "Requirement already satisfied: fsspec in /usr/local/lib/python3.11/dist-packages (from torch) (2024.10.0)\n",
            "INFO: pip is looking at multiple versions of torch to determine which version is compatible with other requirements. This could take a while.\n",
            "Collecting torch\n",
            "  Downloading https://download.pytorch.org/whl/cu118/torch-2.6.0%2Bcu118-cp311-cp311-linux_x86_64.whl.metadata (27 kB)\n",
            "Collecting nvidia-cuda-nvrtc-cu11==11.8.89 (from torch)\n",
            "  Downloading https://download.pytorch.org/whl/cu118/nvidia_cuda_nvrtc_cu11-11.8.89-py3-none-manylinux1_x86_64.whl (23.2 MB)\n",
            "\u001b[2K     \u001b[90m━━━━━━━━━━━━━━━━━━━━━━━━━━━━━━━━━━━━━━━━\u001b[0m \u001b[32m23.2/23.2 MB\u001b[0m \u001b[31m82.7 MB/s\u001b[0m eta \u001b[36m0:00:00\u001b[0m\n",
            "\u001b[?25hCollecting nvidia-cuda-runtime-cu11==11.8.89 (from torch)\n",
            "  Downloading https://download.pytorch.org/whl/cu118/nvidia_cuda_runtime_cu11-11.8.89-py3-none-manylinux1_x86_64.whl (875 kB)\n",
            "\u001b[2K     \u001b[90m━━━━━━━━━━━━━━━━━━━━━━━━━━━━━━━━━━━━━━━━\u001b[0m \u001b[32m875.6/875.6 kB\u001b[0m \u001b[31m45.8 MB/s\u001b[0m eta \u001b[36m0:00:00\u001b[0m\n",
            "\u001b[?25hCollecting nvidia-cuda-cupti-cu11==11.8.87 (from torch)\n",
            "  Downloading https://download.pytorch.org/whl/cu118/nvidia_cuda_cupti_cu11-11.8.87-py3-none-manylinux1_x86_64.whl (13.1 MB)\n",
            "\u001b[2K     \u001b[90m━━━━━━━━━━━━━━━━━━━━━━━━━━━━━━━━━━━━━━━━\u001b[0m \u001b[32m13.1/13.1 MB\u001b[0m \u001b[31m110.4 MB/s\u001b[0m eta \u001b[36m0:00:00\u001b[0m\n",
            "\u001b[?25hCollecting nvidia-cudnn-cu11==9.1.0.70 (from torch)\n",
            "  Downloading https://download.pytorch.org/whl/cu118/nvidia_cudnn_cu11-9.1.0.70-py3-none-manylinux2014_x86_64.whl (663.9 MB)\n",
            "\u001b[2K     \u001b[90m━━━━━━━━━━━━━━━━━━━━━━━━━━━━━━━━━━━━━━━━\u001b[0m \u001b[32m663.9/663.9 MB\u001b[0m \u001b[31m3.1 MB/s\u001b[0m eta \u001b[36m0:00:00\u001b[0m\n",
            "\u001b[?25hCollecting nvidia-cublas-cu11==11.11.3.6 (from torch)\n",
            "  Downloading https://download.pytorch.org/whl/cu118/nvidia_cublas_cu11-11.11.3.6-py3-none-manylinux1_x86_64.whl (417.9 MB)\n",
            "\u001b[2K     \u001b[90m━━━━━━━━━━━━━━━━━━━━━━━━━━━━━━━━━━━━━━━━\u001b[0m \u001b[32m417.9/417.9 MB\u001b[0m \u001b[31m2.6 MB/s\u001b[0m eta \u001b[36m0:00:00\u001b[0m\n",
            "\u001b[?25hCollecting nvidia-cufft-cu11==10.9.0.58 (from torch)\n",
            "  Downloading https://download.pytorch.org/whl/cu118/nvidia_cufft_cu11-10.9.0.58-py3-none-manylinux1_x86_64.whl (168.4 MB)\n",
            "\u001b[2K     \u001b[90m━━━━━━━━━━━━━━━━━━━━━━━━━━━━━━━━━━━━━━━━\u001b[0m \u001b[32m168.4/168.4 MB\u001b[0m \u001b[31m6.9 MB/s\u001b[0m eta \u001b[36m0:00:00\u001b[0m\n",
            "\u001b[?25hCollecting nvidia-curand-cu11==10.3.0.86 (from torch)\n",
            "  Downloading https://download.pytorch.org/whl/cu118/nvidia_curand_cu11-10.3.0.86-py3-none-manylinux1_x86_64.whl (58.1 MB)\n",
            "\u001b[2K     \u001b[90m━━━━━━━━━━━━━━━━━━━━━━━━━━━━━━━━━━━━━━━━\u001b[0m \u001b[32m58.1/58.1 MB\u001b[0m \u001b[31m12.7 MB/s\u001b[0m eta \u001b[36m0:00:00\u001b[0m\n",
            "\u001b[?25hCollecting nvidia-cusolver-cu11==11.4.1.48 (from torch)\n",
            "  Downloading https://download.pytorch.org/whl/cu118/nvidia_cusolver_cu11-11.4.1.48-py3-none-manylinux1_x86_64.whl (128.2 MB)\n",
            "\u001b[2K     \u001b[90m━━━━━━━━━━━━━━━━━━━━━━━━━━━━━━━━━━━━━━━━\u001b[0m \u001b[32m128.2/128.2 MB\u001b[0m \u001b[31m7.4 MB/s\u001b[0m eta \u001b[36m0:00:00\u001b[0m\n",
            "\u001b[?25hCollecting nvidia-cusparse-cu11==11.7.5.86 (from torch)\n",
            "  Downloading https://download.pytorch.org/whl/cu118/nvidia_cusparse_cu11-11.7.5.86-py3-none-manylinux1_x86_64.whl (204.1 MB)\n",
            "\u001b[2K     \u001b[90m━━━━━━━━━━━━━━━━━━━━━━━━━━━━━━━━━━━━━━━━\u001b[0m \u001b[32m204.1/204.1 MB\u001b[0m \u001b[31m6.0 MB/s\u001b[0m eta \u001b[36m0:00:00\u001b[0m\n",
            "\u001b[?25hCollecting nvidia-nccl-cu11==2.21.5 (from torch)\n",
            "  Downloading https://download.pytorch.org/whl/cu118/nvidia_nccl_cu11-2.21.5-py3-none-manylinux2014_x86_64.whl (147.8 MB)\n",
            "\u001b[2K     \u001b[90m━━━━━━━━━━━━━━━━━━━━━━━━━━━━━━━━━━━━━━━━\u001b[0m \u001b[32m147.8/147.8 MB\u001b[0m \u001b[31m6.9 MB/s\u001b[0m eta \u001b[36m0:00:00\u001b[0m\n",
            "\u001b[?25hCollecting nvidia-nvtx-cu11==11.8.86 (from torch)\n",
            "  Downloading https://download.pytorch.org/whl/cu118/nvidia_nvtx_cu11-11.8.86-py3-none-manylinux1_x86_64.whl (99 kB)\n",
            "\u001b[2K     \u001b[90m━━━━━━━━━━━━━━━━━━━━━━━━━━━━━━━━━━━━━━━━\u001b[0m \u001b[32m99.1/99.1 kB\u001b[0m \u001b[31m8.9 MB/s\u001b[0m eta \u001b[36m0:00:00\u001b[0m\n",
            "\u001b[?25hCollecting triton==3.2.0 (from torch)\n",
            "  Downloading https://download.pytorch.org/whl/triton-3.2.0-cp311-cp311-manylinux_2_27_x86_64.manylinux_2_28_x86_64.whl.metadata (1.4 kB)\n",
            "Requirement already satisfied: sympy==1.13.1 in /usr/local/lib/python3.11/dist-packages (from torch) (1.13.1)\n",
            "Requirement already satisfied: mpmath<1.4,>=1.1.0 in /usr/local/lib/python3.11/dist-packages (from sympy==1.13.1->torch) (1.3.0)\n",
            "Requirement already satisfied: numpy in /usr/local/lib/python3.11/dist-packages (from torchvision) (1.26.4)\n",
            "Requirement already satisfied: pillow!=8.3.*,>=5.3.0 in /usr/local/lib/python3.11/dist-packages (from torchvision) (11.1.0)\n",
            "Collecting torch\n",
            "  Downloading https://download.pytorch.org/whl/cu118/torch-2.5.1%2Bcu118-cp311-cp311-linux_x86_64.whl (838.4 MB)\n",
            "\u001b[2K     \u001b[90m━━━━━━━━━━━━━━━━━━━━━━━━━━━━━━━━━━━━━━━━\u001b[0m \u001b[32m838.4/838.4 MB\u001b[0m \u001b[31m1.1 MB/s\u001b[0m eta \u001b[36m0:00:00\u001b[0m\n",
            "\u001b[?25hRequirement already satisfied: triton==3.1.0 in /usr/local/lib/python3.11/dist-packages (from torch) (3.1.0)\n",
            "Requirement already satisfied: MarkupSafe>=2.0 in /usr/local/lib/python3.11/dist-packages (from jinja2->torch) (3.0.2)\n",
            "Installing collected packages: nvidia-nvtx-cu11, nvidia-nccl-cu11, nvidia-cusparse-cu11, nvidia-curand-cu11, nvidia-cufft-cu11, nvidia-cuda-runtime-cu11, nvidia-cuda-nvrtc-cu11, nvidia-cuda-cupti-cu11, nvidia-cublas-cu11, nvidia-cusolver-cu11, nvidia-cudnn-cu11, torch\n",
            "  Attempting uninstall: torch\n",
            "    Found existing installation: torch 2.5.1+cu124\n",
            "    Uninstalling torch-2.5.1+cu124:\n",
            "      Successfully uninstalled torch-2.5.1+cu124\n",
            "Successfully installed nvidia-cublas-cu11-11.11.3.6 nvidia-cuda-cupti-cu11-11.8.87 nvidia-cuda-nvrtc-cu11-11.8.89 nvidia-cuda-runtime-cu11-11.8.89 nvidia-cudnn-cu11-9.1.0.70 nvidia-cufft-cu11-10.9.0.58 nvidia-curand-cu11-10.3.0.86 nvidia-cusolver-cu11-11.4.1.48 nvidia-cusparse-cu11-11.7.5.86 nvidia-nccl-cu11-2.21.5 nvidia-nvtx-cu11-11.8.86 torch-2.5.1+cu118\n"
          ]
        }
      ]
    },
    {
      "cell_type": "code",
      "source": [
        "!poetry add matplotlib-inline"
      ],
      "metadata": {
        "id": "pe94W--SOxVz",
        "outputId": "ad6693b5-8e66-414f-86c1-aa71098dff9f",
        "colab": {
          "base_uri": "https://localhost:8080/"
        }
      },
      "execution_count": 12,
      "outputs": [
        {
          "output_type": "stream",
          "name": "stdout",
          "text": [
            "Using version \u001b[39;1m^0.1.7\u001b[39;22m for \u001b[36mmatplotlib-inline\u001b[39m\n",
            "\n",
            "\u001b[34mUpdating dependencies\u001b[39m\n",
            "\u001b[2K\u001b[34mResolving dependencies...\u001b[39m \u001b[39;2m(2.2s)\u001b[39;22m\n",
            "\n",
            "\u001b[39;1mPackage operations\u001b[39;22m: \u001b[34m2\u001b[39m installs, \u001b[34m8\u001b[39m updates, \u001b[34m0\u001b[39m removals\n",
            "\n",
            "  \u001b[34;1m-\u001b[39;22m \u001b[39mDowngrading \u001b[39m\u001b[36mhuggingface-hub\u001b[39m\u001b[39m (\u001b[39m\u001b[39;1m0.29.1\u001b[39;22m\u001b[39m -> \u001b[39m\u001b[39;1m0.27.0\u001b[39;22m\u001b[39m)\u001b[39m: \u001b[34mPending...\u001b[39m\n",
            "  \u001b[34;1m-\u001b[39;22m \u001b[39mUpdating \u001b[39m\u001b[36msympy\u001b[39m\u001b[39m (\u001b[39m\u001b[39;1m1.13.1\u001b[39;22m\u001b[39m -> \u001b[39m\u001b[39;1m1.13.3\u001b[39;22m\u001b[39m)\u001b[39m: \u001b[34mPending...\u001b[39m\n",
            "\u001b[2A\u001b[0J  \u001b[34;1m-\u001b[39;22m \u001b[39mUpdating \u001b[39m\u001b[36msympy\u001b[39m\u001b[39m (\u001b[39m\u001b[39;1m1.13.1\u001b[39;22m\u001b[39m -> \u001b[39m\u001b[39;1m1.13.3\u001b[39;22m\u001b[39m)\u001b[39m: \u001b[34mPending...\u001b[39m\n",
            "\u001b[1A\u001b[0J  \u001b[34;1m-\u001b[39;22m \u001b[39mDowngrading \u001b[39m\u001b[36mhuggingface-hub\u001b[39m\u001b[39m (\u001b[39m\u001b[39;1m0.29.1\u001b[39;22m\u001b[39m -> \u001b[39m\u001b[39;1m0.27.0\u001b[39;22m\u001b[39m)\u001b[39m: \u001b[34mInstalling...\u001b[39m\n",
            "  \u001b[34;1m-\u001b[39;22m \u001b[39mUpdating \u001b[39m\u001b[36msympy\u001b[39m\u001b[39m (\u001b[39m\u001b[39;1m1.13.1\u001b[39;22m\u001b[39m -> \u001b[39m\u001b[39;1m1.13.3\u001b[39;22m\u001b[39m)\u001b[39m: \u001b[34mPending...\u001b[39m\n",
            "\u001b[1A\u001b[0J  \u001b[34;1m-\u001b[39;22m \u001b[39mUpdating \u001b[39m\u001b[36msympy\u001b[39m\u001b[39m (\u001b[39m\u001b[39;1m1.13.1\u001b[39;22m\u001b[39m -> \u001b[39m\u001b[39;1m1.13.3\u001b[39;22m\u001b[39m)\u001b[39m: \u001b[34mInstalling...\u001b[39m\n",
            "\u001b[2A\u001b[0J  \u001b[34;1m-\u001b[39;22m \u001b[39mUpdating \u001b[39m\u001b[36msympy\u001b[39m\u001b[39m (\u001b[39m\u001b[39;1m1.13.1\u001b[39;22m\u001b[39m -> \u001b[39m\u001b[39;1m1.13.3\u001b[39;22m\u001b[39m)\u001b[39m: \u001b[34mInstalling...\u001b[39m\n",
            "\u001b[1A\u001b[0J  \u001b[32;1m-\u001b[39;22m \u001b[39mDowngrading \u001b[39m\u001b[36mhuggingface-hub\u001b[39m\u001b[39m (\u001b[39m\u001b[39;1m0.29.1\u001b[39;22m\u001b[39m -> \u001b[39m\u001b[32m0.27.0\u001b[39m\u001b[39m)\u001b[39m\n",
            "  \u001b[34;1m-\u001b[39;22m \u001b[39mUpdating \u001b[39m\u001b[36msympy\u001b[39m\u001b[39m (\u001b[39m\u001b[39;1m1.13.1\u001b[39;22m\u001b[39m -> \u001b[39m\u001b[39;1m1.13.3\u001b[39;22m\u001b[39m)\u001b[39m: \u001b[34mInstalling...\u001b[39m\n",
            "\u001b[1A\u001b[0J  \u001b[32;1m-\u001b[39;22m \u001b[39mUpdating \u001b[39m\u001b[36msympy\u001b[39m\u001b[39m (\u001b[39m\u001b[39;1m1.13.1\u001b[39;22m\u001b[39m -> \u001b[39m\u001b[32m1.13.3\u001b[39m\u001b[39m)\u001b[39m\n",
            "  \u001b[34;1m-\u001b[39;22m \u001b[39mDowngrading \u001b[39m\u001b[36mgradio-client\u001b[39m\u001b[39m (\u001b[39m\u001b[39;1m1.7.2\u001b[39;22m\u001b[39m -> \u001b[39m\u001b[39;1m0.6.1\u001b[39;22m\u001b[39m)\u001b[39m: \u001b[34mPending...\u001b[39m\n",
            "  \u001b[34;1m-\u001b[39;22m \u001b[39mDowngrading \u001b[39m\u001b[36mtorch\u001b[39m\u001b[39m (\u001b[39m\u001b[39;1m2.6.0\u001b[39;22m\u001b[39m -> \u001b[39m\u001b[39;1m2.0.1\u001b[39;22m\u001b[39m)\u001b[39m: \u001b[34mPending...\u001b[39m\n",
            "  \u001b[34;1m-\u001b[39;22m \u001b[39mInstalling \u001b[39m\u001b[36mtraitlets\u001b[39m\u001b[39m (\u001b[39m\u001b[39;1m5.14.3\u001b[39;22m\u001b[39m)\u001b[39m: \u001b[34mPending...\u001b[39m\n",
            "\u001b[3A\u001b[0J  \u001b[34;1m-\u001b[39;22m \u001b[39mDowngrading \u001b[39m\u001b[36mtorch\u001b[39m\u001b[39m (\u001b[39m\u001b[39;1m2.6.0\u001b[39;22m\u001b[39m -> \u001b[39m\u001b[39;1m2.0.1\u001b[39;22m\u001b[39m)\u001b[39m: \u001b[34mPending...\u001b[39m\n",
            "  \u001b[34;1m-\u001b[39;22m \u001b[39mInstalling \u001b[39m\u001b[36mtraitlets\u001b[39m\u001b[39m (\u001b[39m\u001b[39;1m5.14.3\u001b[39;22m\u001b[39m)\u001b[39m: \u001b[34mPending...\u001b[39m\n",
            "\u001b[2A\u001b[0J  \u001b[34;1m-\u001b[39;22m \u001b[39mDowngrading \u001b[39m\u001b[36mgradio-client\u001b[39m\u001b[39m (\u001b[39m\u001b[39;1m1.7.2\u001b[39;22m\u001b[39m -> \u001b[39m\u001b[39;1m0.6.1\u001b[39;22m\u001b[39m)\u001b[39m: \u001b[34mInstalling...\u001b[39m\n",
            "  \u001b[34;1m-\u001b[39;22m \u001b[39mDowngrading \u001b[39m\u001b[36mtorch\u001b[39m\u001b[39m (\u001b[39m\u001b[39;1m2.6.0\u001b[39;22m\u001b[39m -> \u001b[39m\u001b[39;1m2.0.1\u001b[39;22m\u001b[39m)\u001b[39m: \u001b[34mPending...\u001b[39m\n",
            "  \u001b[34;1m-\u001b[39;22m \u001b[39mInstalling \u001b[39m\u001b[36mtraitlets\u001b[39m\u001b[39m (\u001b[39m\u001b[39;1m5.14.3\u001b[39;22m\u001b[39m)\u001b[39m: \u001b[34mPending...\u001b[39m\n",
            "\u001b[1A\u001b[0J  \u001b[34;1m-\u001b[39;22m \u001b[39mInstalling \u001b[39m\u001b[36mtraitlets\u001b[39m\u001b[39m (\u001b[39m\u001b[39;1m5.14.3\u001b[39;22m\u001b[39m)\u001b[39m: \u001b[34mDownloading...\u001b[39m \u001b[39;1m0%\u001b[39;22m\n",
            "\u001b[1A\u001b[0J  \u001b[34;1m-\u001b[39;22m \u001b[39mInstalling \u001b[39m\u001b[36mtraitlets\u001b[39m\u001b[39m (\u001b[39m\u001b[39;1m5.14.3\u001b[39;22m\u001b[39m)\u001b[39m: \u001b[34mDownloading...\u001b[39m \u001b[39;1m100%\u001b[39;22m\n",
            "\u001b[1A\u001b[0J  \u001b[34;1m-\u001b[39;22m \u001b[39mInstalling \u001b[39m\u001b[36mtraitlets\u001b[39m\u001b[39m (\u001b[39m\u001b[39;1m5.14.3\u001b[39;22m\u001b[39m)\u001b[39m: \u001b[34mInstalling...\u001b[39m\n",
            "\u001b[1A\u001b[0J  \u001b[32;1m-\u001b[39;22m \u001b[39mInstalling \u001b[39m\u001b[36mtraitlets\u001b[39m\u001b[39m (\u001b[39m\u001b[32m5.14.3\u001b[39m\u001b[39m)\u001b[39m\n",
            "\u001b[3A\u001b[0J  \u001b[34;1m-\u001b[39;22m \u001b[39mDowngrading \u001b[39m\u001b[36mtorch\u001b[39m\u001b[39m (\u001b[39m\u001b[39;1m2.6.0\u001b[39;22m\u001b[39m -> \u001b[39m\u001b[39;1m2.0.1\u001b[39;22m\u001b[39m)\u001b[39m: \u001b[34mPending...\u001b[39m\n",
            "  \u001b[32;1m-\u001b[39;22m \u001b[39mInstalling \u001b[39m\u001b[36mtraitlets\u001b[39m\u001b[39m (\u001b[39m\u001b[32m5.14.3\u001b[39m\u001b[39m)\u001b[39m\n",
            "\u001b[2A\u001b[0J  \u001b[32;1m-\u001b[39;22m \u001b[39mDowngrading \u001b[39m\u001b[36mgradio-client\u001b[39m\u001b[39m (\u001b[39m\u001b[39;1m1.7.2\u001b[39;22m\u001b[39m -> \u001b[39m\u001b[32m0.6.1\u001b[39m\u001b[39m)\u001b[39m\n",
            "  \u001b[34;1m-\u001b[39;22m \u001b[39mDowngrading \u001b[39m\u001b[36mtorch\u001b[39m\u001b[39m (\u001b[39m\u001b[39;1m2.6.0\u001b[39;22m\u001b[39m -> \u001b[39m\u001b[39;1m2.0.1\u001b[39;22m\u001b[39m)\u001b[39m: \u001b[34mPending...\u001b[39m\n",
            "  \u001b[32;1m-\u001b[39;22m \u001b[39mInstalling \u001b[39m\u001b[36mtraitlets\u001b[39m\u001b[39m (\u001b[39m\u001b[32m5.14.3\u001b[39m\u001b[39m)\u001b[39m\n",
            "\u001b[2A\u001b[0J  \u001b[32;1m-\u001b[39;22m \u001b[39mInstalling \u001b[39m\u001b[36mtraitlets\u001b[39m\u001b[39m (\u001b[39m\u001b[32m5.14.3\u001b[39m\u001b[39m)\u001b[39m\n",
            "\u001b[1A\u001b[0J  \u001b[34;1m-\u001b[39;22m \u001b[39mDowngrading \u001b[39m\u001b[36mtorch\u001b[39m\u001b[39m (\u001b[39m\u001b[39;1m2.6.0\u001b[39;22m\u001b[39m -> \u001b[39m\u001b[39;1m2.0.1\u001b[39;22m\u001b[39m)\u001b[39m: \u001b[34mInstalling...\u001b[39m\n",
            "  \u001b[32;1m-\u001b[39;22m \u001b[39mInstalling \u001b[39m\u001b[36mtraitlets\u001b[39m\u001b[39m (\u001b[39m\u001b[32m5.14.3\u001b[39m\u001b[39m)\u001b[39m\n",
            "\u001b[2A\u001b[0J  \u001b[32;1m-\u001b[39;22m \u001b[39mInstalling \u001b[39m\u001b[36mtraitlets\u001b[39m\u001b[39m (\u001b[39m\u001b[32m5.14.3\u001b[39m\u001b[39m)\u001b[39m\n",
            "\u001b[1A\u001b[0J  \u001b[32;1m-\u001b[39;22m \u001b[39mDowngrading \u001b[39m\u001b[36mtorch\u001b[39m\u001b[39m (\u001b[39m\u001b[39;1m2.6.0\u001b[39;22m\u001b[39m -> \u001b[39m\u001b[32m2.0.1\u001b[39m\u001b[39m)\u001b[39m\n",
            "  \u001b[32;1m-\u001b[39;22m \u001b[39mInstalling \u001b[39m\u001b[36mtraitlets\u001b[39m\u001b[39m (\u001b[39m\u001b[32m5.14.3\u001b[39m\u001b[39m)\u001b[39m\n",
            "  \u001b[34;1m-\u001b[39;22m \u001b[39mDowngrading \u001b[39m\u001b[36mgradio\u001b[39m\u001b[39m (\u001b[39m\u001b[39;1m5.20.0\u001b[39;22m\u001b[39m -> \u001b[39m\u001b[39;1m3.50.2\u001b[39;22m\u001b[39m)\u001b[39m: \u001b[34mPending...\u001b[39m\n",
            "  \u001b[34;1m-\u001b[39;22m \u001b[39mInstalling \u001b[39m\u001b[36mmatplotlib-inline\u001b[39m\u001b[39m (\u001b[39m\u001b[39;1m0.1.7\u001b[39;22m\u001b[39m)\u001b[39m: \u001b[34mPending...\u001b[39m\n",
            "  \u001b[34;1m-\u001b[39;22m \u001b[39mDowngrading \u001b[39m\u001b[36mopencv-python\u001b[39m\u001b[39m (\u001b[39m\u001b[39;1m4.11.0.86\u001b[39;22m\u001b[39m -> \u001b[39m\u001b[39;1m4.10.0.84\u001b[39;22m\u001b[39m)\u001b[39m: \u001b[34mPending...\u001b[39m\n",
            "  \u001b[34;1m-\u001b[39;22m \u001b[39mDowngrading \u001b[39m\u001b[36msafetensors\u001b[39m\u001b[39m (\u001b[39m\u001b[39;1m0.5.3\u001b[39;22m\u001b[39m -> \u001b[39m\u001b[39;1m0.3.3\u001b[39;22m\u001b[39m)\u001b[39m: \u001b[34mPending...\u001b[39m\n",
            "  \u001b[34;1m-\u001b[39;22m \u001b[39mDowngrading \u001b[39m\u001b[36mtorchvision\u001b[39m\u001b[39m (\u001b[39m\u001b[39;1m0.21.0\u001b[39;22m\u001b[39m -> \u001b[39m\u001b[39;1m0.15.2\u001b[39;22m\u001b[39m)\u001b[39m: \u001b[34mPending...\u001b[39m\n",
            "\u001b[4A\u001b[0J  \u001b[34;1m-\u001b[39;22m \u001b[39mDowngrading \u001b[39m\u001b[36mopencv-python\u001b[39m\u001b[39m (\u001b[39m\u001b[39;1m4.11.0.86\u001b[39;22m\u001b[39m -> \u001b[39m\u001b[39;1m4.10.0.84\u001b[39;22m\u001b[39m)\u001b[39m: \u001b[34mPending...\u001b[39m\n",
            "  \u001b[34;1m-\u001b[39;22m \u001b[39mDowngrading \u001b[39m\u001b[36msafetensors\u001b[39m\u001b[39m (\u001b[39m\u001b[39;1m0.5.3\u001b[39;22m\u001b[39m -> \u001b[39m\u001b[39;1m0.3.3\u001b[39;22m\u001b[39m)\u001b[39m: \u001b[34mPending...\u001b[39m\n",
            "  \u001b[34;1m-\u001b[39;22m \u001b[39mDowngrading \u001b[39m\u001b[36mtorchvision\u001b[39m\u001b[39m (\u001b[39m\u001b[39;1m0.21.0\u001b[39;22m\u001b[39m -> \u001b[39m\u001b[39;1m0.15.2\u001b[39;22m\u001b[39m)\u001b[39m: \u001b[34mPending...\u001b[39m\n",
            "\u001b[3A\u001b[0J  \u001b[34;1m-\u001b[39;22m \u001b[39mInstalling \u001b[39m\u001b[36mmatplotlib-inline\u001b[39m\u001b[39m (\u001b[39m\u001b[39;1m0.1.7\u001b[39;22m\u001b[39m)\u001b[39m: \u001b[34mDownloading...\u001b[39m \u001b[39;1m0%\u001b[39;22m\n",
            "  \u001b[34;1m-\u001b[39;22m \u001b[39mDowngrading \u001b[39m\u001b[36mopencv-python\u001b[39m\u001b[39m (\u001b[39m\u001b[39;1m4.11.0.86\u001b[39;22m\u001b[39m -> \u001b[39m\u001b[39;1m4.10.0.84\u001b[39;22m\u001b[39m)\u001b[39m: \u001b[34mPending...\u001b[39m\n",
            "  \u001b[34;1m-\u001b[39;22m \u001b[39mDowngrading \u001b[39m\u001b[36msafetensors\u001b[39m\u001b[39m (\u001b[39m\u001b[39;1m0.5.3\u001b[39;22m\u001b[39m -> \u001b[39m\u001b[39;1m0.3.3\u001b[39;22m\u001b[39m)\u001b[39m: \u001b[34mPending...\u001b[39m\n",
            "  \u001b[34;1m-\u001b[39;22m \u001b[39mDowngrading \u001b[39m\u001b[36mtorchvision\u001b[39m\u001b[39m (\u001b[39m\u001b[39;1m0.21.0\u001b[39;22m\u001b[39m -> \u001b[39m\u001b[39;1m0.15.2\u001b[39;22m\u001b[39m)\u001b[39m: \u001b[34mPending...\u001b[39m\n",
            "\u001b[4A\u001b[0J  \u001b[34;1m-\u001b[39;22m \u001b[39mDowngrading \u001b[39m\u001b[36mopencv-python\u001b[39m\u001b[39m (\u001b[39m\u001b[39;1m4.11.0.86\u001b[39;22m\u001b[39m -> \u001b[39m\u001b[39;1m4.10.0.84\u001b[39;22m\u001b[39m)\u001b[39m: \u001b[34mPending...\u001b[39m\n",
            "  \u001b[34;1m-\u001b[39;22m \u001b[39mDowngrading \u001b[39m\u001b[36msafetensors\u001b[39m\u001b[39m (\u001b[39m\u001b[39;1m0.5.3\u001b[39;22m\u001b[39m -> \u001b[39m\u001b[39;1m0.3.3\u001b[39;22m\u001b[39m)\u001b[39m: \u001b[34mPending...\u001b[39m\n",
            "  \u001b[34;1m-\u001b[39;22m \u001b[39mDowngrading \u001b[39m\u001b[36mtorchvision\u001b[39m\u001b[39m (\u001b[39m\u001b[39;1m0.21.0\u001b[39;22m\u001b[39m -> \u001b[39m\u001b[39;1m0.15.2\u001b[39;22m\u001b[39m)\u001b[39m: \u001b[34mPending...\u001b[39m\n",
            "\u001b[3A\u001b[0J  \u001b[34;1m-\u001b[39;22m \u001b[39mInstalling \u001b[39m\u001b[36mmatplotlib-inline\u001b[39m\u001b[39m (\u001b[39m\u001b[39;1m0.1.7\u001b[39;22m\u001b[39m)\u001b[39m: \u001b[34mDownloading...\u001b[39m \u001b[39;1m100%\u001b[39;22m\n",
            "  \u001b[34;1m-\u001b[39;22m \u001b[39mDowngrading \u001b[39m\u001b[36mopencv-python\u001b[39m\u001b[39m (\u001b[39m\u001b[39;1m4.11.0.86\u001b[39;22m\u001b[39m -> \u001b[39m\u001b[39;1m4.10.0.84\u001b[39;22m\u001b[39m)\u001b[39m: \u001b[34mPending...\u001b[39m\n",
            "  \u001b[34;1m-\u001b[39;22m \u001b[39mDowngrading \u001b[39m\u001b[36msafetensors\u001b[39m\u001b[39m (\u001b[39m\u001b[39;1m0.5.3\u001b[39;22m\u001b[39m -> \u001b[39m\u001b[39;1m0.3.3\u001b[39;22m\u001b[39m)\u001b[39m: \u001b[34mPending...\u001b[39m\n",
            "  \u001b[34;1m-\u001b[39;22m \u001b[39mDowngrading \u001b[39m\u001b[36mtorchvision\u001b[39m\u001b[39m (\u001b[39m\u001b[39;1m0.21.0\u001b[39;22m\u001b[39m -> \u001b[39m\u001b[39;1m0.15.2\u001b[39;22m\u001b[39m)\u001b[39m: \u001b[34mPending...\u001b[39m\n",
            "\u001b[2A\u001b[0J  \u001b[34;1m-\u001b[39;22m \u001b[39mDowngrading \u001b[39m\u001b[36mtorchvision\u001b[39m\u001b[39m (\u001b[39m\u001b[39;1m0.21.0\u001b[39;22m\u001b[39m -> \u001b[39m\u001b[39;1m0.15.2\u001b[39;22m\u001b[39m)\u001b[39m: \u001b[34mPending...\u001b[39m\n",
            "\u001b[1A\u001b[0J  \u001b[34;1m-\u001b[39;22m \u001b[39mDowngrading \u001b[39m\u001b[36msafetensors\u001b[39m\u001b[39m (\u001b[39m\u001b[39;1m0.5.3\u001b[39;22m\u001b[39m -> \u001b[39m\u001b[39;1m0.3.3\u001b[39;22m\u001b[39m)\u001b[39m: \u001b[34mInstalling...\u001b[39m\n",
            "  \u001b[34;1m-\u001b[39;22m \u001b[39mDowngrading \u001b[39m\u001b[36mtorchvision\u001b[39m\u001b[39m (\u001b[39m\u001b[39;1m0.21.0\u001b[39;22m\u001b[39m -> \u001b[39m\u001b[39;1m0.15.2\u001b[39;22m\u001b[39m)\u001b[39m: \u001b[34mPending...\u001b[39m\n",
            "\u001b[4A\u001b[0J  \u001b[34;1m-\u001b[39;22m \u001b[39mDowngrading \u001b[39m\u001b[36mopencv-python\u001b[39m\u001b[39m (\u001b[39m\u001b[39;1m4.11.0.86\u001b[39;22m\u001b[39m -> \u001b[39m\u001b[39;1m4.10.0.84\u001b[39;22m\u001b[39m)\u001b[39m: \u001b[34mPending...\u001b[39m\n",
            "  \u001b[34;1m-\u001b[39;22m \u001b[39mDowngrading \u001b[39m\u001b[36msafetensors\u001b[39m\u001b[39m (\u001b[39m\u001b[39;1m0.5.3\u001b[39;22m\u001b[39m -> \u001b[39m\u001b[39;1m0.3.3\u001b[39;22m\u001b[39m)\u001b[39m: \u001b[34mInstalling...\u001b[39m\n",
            "  \u001b[34;1m-\u001b[39;22m \u001b[39mDowngrading \u001b[39m\u001b[36mtorchvision\u001b[39m\u001b[39m (\u001b[39m\u001b[39;1m0.21.0\u001b[39;22m\u001b[39m -> \u001b[39m\u001b[39;1m0.15.2\u001b[39;22m\u001b[39m)\u001b[39m: \u001b[34mPending...\u001b[39m\n",
            "\u001b[3A\u001b[0J  \u001b[34;1m-\u001b[39;22m \u001b[39mInstalling \u001b[39m\u001b[36mmatplotlib-inline\u001b[39m\u001b[39m (\u001b[39m\u001b[39;1m0.1.7\u001b[39;22m\u001b[39m)\u001b[39m: \u001b[34mInstalling...\u001b[39m\n",
            "  \u001b[34;1m-\u001b[39;22m \u001b[39mDowngrading \u001b[39m\u001b[36mopencv-python\u001b[39m\u001b[39m (\u001b[39m\u001b[39;1m4.11.0.86\u001b[39;22m\u001b[39m -> \u001b[39m\u001b[39;1m4.10.0.84\u001b[39;22m\u001b[39m)\u001b[39m: \u001b[34mPending...\u001b[39m\n",
            "  \u001b[34;1m-\u001b[39;22m \u001b[39mDowngrading \u001b[39m\u001b[36msafetensors\u001b[39m\u001b[39m (\u001b[39m\u001b[39;1m0.5.3\u001b[39;22m\u001b[39m -> \u001b[39m\u001b[39;1m0.3.3\u001b[39;22m\u001b[39m)\u001b[39m: \u001b[34mInstalling...\u001b[39m\n",
            "  \u001b[34;1m-\u001b[39;22m \u001b[39mDowngrading \u001b[39m\u001b[36mtorchvision\u001b[39m\u001b[39m (\u001b[39m\u001b[39;1m0.21.0\u001b[39;22m\u001b[39m -> \u001b[39m\u001b[39;1m0.15.2\u001b[39;22m\u001b[39m)\u001b[39m: \u001b[34mPending...\u001b[39m\n",
            "\u001b[4A\u001b[0J  \u001b[34;1m-\u001b[39;22m \u001b[39mDowngrading \u001b[39m\u001b[36mopencv-python\u001b[39m\u001b[39m (\u001b[39m\u001b[39;1m4.11.0.86\u001b[39;22m\u001b[39m -> \u001b[39m\u001b[39;1m4.10.0.84\u001b[39;22m\u001b[39m)\u001b[39m: \u001b[34mPending...\u001b[39m\n",
            "  \u001b[34;1m-\u001b[39;22m \u001b[39mDowngrading \u001b[39m\u001b[36msafetensors\u001b[39m\u001b[39m (\u001b[39m\u001b[39;1m0.5.3\u001b[39;22m\u001b[39m -> \u001b[39m\u001b[39;1m0.3.3\u001b[39;22m\u001b[39m)\u001b[39m: \u001b[34mInstalling...\u001b[39m\n",
            "  \u001b[34;1m-\u001b[39;22m \u001b[39mDowngrading \u001b[39m\u001b[36mtorchvision\u001b[39m\u001b[39m (\u001b[39m\u001b[39;1m0.21.0\u001b[39;22m\u001b[39m -> \u001b[39m\u001b[39;1m0.15.2\u001b[39;22m\u001b[39m)\u001b[39m: \u001b[34mPending...\u001b[39m\n",
            "\u001b[3A\u001b[0J  \u001b[32;1m-\u001b[39;22m \u001b[39mInstalling \u001b[39m\u001b[36mmatplotlib-inline\u001b[39m\u001b[39m (\u001b[39m\u001b[32m0.1.7\u001b[39m\u001b[39m)\u001b[39m\n",
            "  \u001b[34;1m-\u001b[39;22m \u001b[39mDowngrading \u001b[39m\u001b[36mopencv-python\u001b[39m\u001b[39m (\u001b[39m\u001b[39;1m4.11.0.86\u001b[39;22m\u001b[39m -> \u001b[39m\u001b[39;1m4.10.0.84\u001b[39;22m\u001b[39m)\u001b[39m: \u001b[34mPending...\u001b[39m\n",
            "  \u001b[34;1m-\u001b[39;22m \u001b[39mDowngrading \u001b[39m\u001b[36msafetensors\u001b[39m\u001b[39m (\u001b[39m\u001b[39;1m0.5.3\u001b[39;22m\u001b[39m -> \u001b[39m\u001b[39;1m0.3.3\u001b[39;22m\u001b[39m)\u001b[39m: \u001b[34mInstalling...\u001b[39m\n",
            "  \u001b[34;1m-\u001b[39;22m \u001b[39mDowngrading \u001b[39m\u001b[36mtorchvision\u001b[39m\u001b[39m (\u001b[39m\u001b[39;1m0.21.0\u001b[39;22m\u001b[39m -> \u001b[39m\u001b[39;1m0.15.2\u001b[39;22m\u001b[39m)\u001b[39m: \u001b[34mPending...\u001b[39m\n",
            "\u001b[1A\u001b[0J  \u001b[34;1m-\u001b[39;22m \u001b[39mDowngrading \u001b[39m\u001b[36mtorchvision\u001b[39m\u001b[39m (\u001b[39m\u001b[39;1m0.21.0\u001b[39;22m\u001b[39m -> \u001b[39m\u001b[39;1m0.15.2\u001b[39;22m\u001b[39m)\u001b[39m: \u001b[34mInstalling...\u001b[39m\n",
            "\u001b[5A\u001b[0J  \u001b[32;1m-\u001b[39;22m \u001b[39mInstalling \u001b[39m\u001b[36mmatplotlib-inline\u001b[39m\u001b[39m (\u001b[39m\u001b[32m0.1.7\u001b[39m\u001b[39m)\u001b[39m\n",
            "  \u001b[34;1m-\u001b[39;22m \u001b[39mDowngrading \u001b[39m\u001b[36mopencv-python\u001b[39m\u001b[39m (\u001b[39m\u001b[39;1m4.11.0.86\u001b[39;22m\u001b[39m -> \u001b[39m\u001b[39;1m4.10.0.84\u001b[39;22m\u001b[39m)\u001b[39m: \u001b[34mPending...\u001b[39m\n",
            "  \u001b[34;1m-\u001b[39;22m \u001b[39mDowngrading \u001b[39m\u001b[36msafetensors\u001b[39m\u001b[39m (\u001b[39m\u001b[39;1m0.5.3\u001b[39;22m\u001b[39m -> \u001b[39m\u001b[39;1m0.3.3\u001b[39;22m\u001b[39m)\u001b[39m: \u001b[34mInstalling...\u001b[39m\n",
            "  \u001b[34;1m-\u001b[39;22m \u001b[39mDowngrading \u001b[39m\u001b[36mtorchvision\u001b[39m\u001b[39m (\u001b[39m\u001b[39;1m0.21.0\u001b[39;22m\u001b[39m -> \u001b[39m\u001b[39;1m0.15.2\u001b[39;22m\u001b[39m)\u001b[39m: \u001b[34mInstalling...\u001b[39m\n",
            "\u001b[4A\u001b[0J  \u001b[34;1m-\u001b[39;22m \u001b[39mDowngrading \u001b[39m\u001b[36mgradio\u001b[39m\u001b[39m (\u001b[39m\u001b[39;1m5.20.0\u001b[39;22m\u001b[39m -> \u001b[39m\u001b[39;1m3.50.2\u001b[39;22m\u001b[39m)\u001b[39m: \u001b[34mInstalling...\u001b[39m\n",
            "  \u001b[32;1m-\u001b[39;22m \u001b[39mInstalling \u001b[39m\u001b[36mmatplotlib-inline\u001b[39m\u001b[39m (\u001b[39m\u001b[32m0.1.7\u001b[39m\u001b[39m)\u001b[39m\n",
            "  \u001b[34;1m-\u001b[39;22m \u001b[39mDowngrading \u001b[39m\u001b[36mopencv-python\u001b[39m\u001b[39m (\u001b[39m\u001b[39;1m4.11.0.86\u001b[39;22m\u001b[39m -> \u001b[39m\u001b[39;1m4.10.0.84\u001b[39;22m\u001b[39m)\u001b[39m: \u001b[34mPending...\u001b[39m\n",
            "  \u001b[34;1m-\u001b[39;22m \u001b[39mDowngrading \u001b[39m\u001b[36msafetensors\u001b[39m\u001b[39m (\u001b[39m\u001b[39;1m0.5.3\u001b[39;22m\u001b[39m -> \u001b[39m\u001b[39;1m0.3.3\u001b[39;22m\u001b[39m)\u001b[39m: \u001b[34mInstalling...\u001b[39m\n",
            "  \u001b[34;1m-\u001b[39;22m \u001b[39mDowngrading \u001b[39m\u001b[36mtorchvision\u001b[39m\u001b[39m (\u001b[39m\u001b[39;1m0.21.0\u001b[39;22m\u001b[39m -> \u001b[39m\u001b[39;1m0.15.2\u001b[39;22m\u001b[39m)\u001b[39m: \u001b[34mInstalling...\u001b[39m\n",
            "\u001b[3A\u001b[0J  \u001b[34;1m-\u001b[39;22m \u001b[39mDowngrading \u001b[39m\u001b[36msafetensors\u001b[39m\u001b[39m (\u001b[39m\u001b[39;1m0.5.3\u001b[39;22m\u001b[39m -> \u001b[39m\u001b[39;1m0.3.3\u001b[39;22m\u001b[39m)\u001b[39m: \u001b[34mInstalling...\u001b[39m\n",
            "  \u001b[34;1m-\u001b[39;22m \u001b[39mDowngrading \u001b[39m\u001b[36mtorchvision\u001b[39m\u001b[39m (\u001b[39m\u001b[39;1m0.21.0\u001b[39;22m\u001b[39m -> \u001b[39m\u001b[39;1m0.15.2\u001b[39;22m\u001b[39m)\u001b[39m: \u001b[34mInstalling...\u001b[39m\n",
            "\u001b[2A\u001b[0J  \u001b[34;1m-\u001b[39;22m \u001b[39mDowngrading \u001b[39m\u001b[36mopencv-python\u001b[39m\u001b[39m (\u001b[39m\u001b[39;1m4.11.0.86\u001b[39;22m\u001b[39m -> \u001b[39m\u001b[39;1m4.10.0.84\u001b[39;22m\u001b[39m)\u001b[39m: \u001b[34mInstalling...\u001b[39m\n",
            "  \u001b[34;1m-\u001b[39;22m \u001b[39mDowngrading \u001b[39m\u001b[36msafetensors\u001b[39m\u001b[39m (\u001b[39m\u001b[39;1m0.5.3\u001b[39;22m\u001b[39m -> \u001b[39m\u001b[39;1m0.3.3\u001b[39;22m\u001b[39m)\u001b[39m: \u001b[34mInstalling...\u001b[39m\n",
            "  \u001b[34;1m-\u001b[39;22m \u001b[39mDowngrading \u001b[39m\u001b[36mtorchvision\u001b[39m\u001b[39m (\u001b[39m\u001b[39;1m0.21.0\u001b[39;22m\u001b[39m -> \u001b[39m\u001b[39;1m0.15.2\u001b[39;22m\u001b[39m)\u001b[39m: \u001b[34mInstalling...\u001b[39m\n",
            "\u001b[2A\u001b[0J  \u001b[34;1m-\u001b[39;22m \u001b[39mDowngrading \u001b[39m\u001b[36mtorchvision\u001b[39m\u001b[39m (\u001b[39m\u001b[39;1m0.21.0\u001b[39;22m\u001b[39m -> \u001b[39m\u001b[39;1m0.15.2\u001b[39;22m\u001b[39m)\u001b[39m: \u001b[34mInstalling...\u001b[39m\n",
            "\u001b[1A\u001b[0J  \u001b[32;1m-\u001b[39;22m \u001b[39mDowngrading \u001b[39m\u001b[36msafetensors\u001b[39m\u001b[39m (\u001b[39m\u001b[39;1m0.5.3\u001b[39;22m\u001b[39m -> \u001b[39m\u001b[32m0.3.3\u001b[39m\u001b[39m)\u001b[39m\n",
            "  \u001b[34;1m-\u001b[39;22m \u001b[39mDowngrading \u001b[39m\u001b[36mtorchvision\u001b[39m\u001b[39m (\u001b[39m\u001b[39;1m0.21.0\u001b[39;22m\u001b[39m -> \u001b[39m\u001b[39;1m0.15.2\u001b[39;22m\u001b[39m)\u001b[39m: \u001b[34mInstalling...\u001b[39m\n",
            "\u001b[1A\u001b[0J  \u001b[32;1m-\u001b[39;22m \u001b[39mDowngrading \u001b[39m\u001b[36mtorchvision\u001b[39m\u001b[39m (\u001b[39m\u001b[39;1m0.21.0\u001b[39;22m\u001b[39m -> \u001b[39m\u001b[32m0.15.2\u001b[39m\u001b[39m)\u001b[39m\n",
            "\u001b[5A\u001b[0J  \u001b[32;1m-\u001b[39;22m \u001b[39mInstalling \u001b[39m\u001b[36mmatplotlib-inline\u001b[39m\u001b[39m (\u001b[39m\u001b[32m0.1.7\u001b[39m\u001b[39m)\u001b[39m\n",
            "  \u001b[34;1m-\u001b[39;22m \u001b[39mDowngrading \u001b[39m\u001b[36mopencv-python\u001b[39m\u001b[39m (\u001b[39m\u001b[39;1m4.11.0.86\u001b[39;22m\u001b[39m -> \u001b[39m\u001b[39;1m4.10.0.84\u001b[39;22m\u001b[39m)\u001b[39m: \u001b[34mInstalling...\u001b[39m\n",
            "  \u001b[32;1m-\u001b[39;22m \u001b[39mDowngrading \u001b[39m\u001b[36msafetensors\u001b[39m\u001b[39m (\u001b[39m\u001b[39;1m0.5.3\u001b[39;22m\u001b[39m -> \u001b[39m\u001b[32m0.3.3\u001b[39m\u001b[39m)\u001b[39m\n",
            "  \u001b[32;1m-\u001b[39;22m \u001b[39mDowngrading \u001b[39m\u001b[36mtorchvision\u001b[39m\u001b[39m (\u001b[39m\u001b[39;1m0.21.0\u001b[39;22m\u001b[39m -> \u001b[39m\u001b[32m0.15.2\u001b[39m\u001b[39m)\u001b[39m\n",
            "\u001b[4A\u001b[0J  \u001b[32;1m-\u001b[39;22m \u001b[39mDowngrading \u001b[39m\u001b[36mgradio\u001b[39m\u001b[39m (\u001b[39m\u001b[39;1m5.20.0\u001b[39;22m\u001b[39m -> \u001b[39m\u001b[32m3.50.2\u001b[39m\u001b[39m)\u001b[39m\n",
            "  \u001b[32;1m-\u001b[39;22m \u001b[39mInstalling \u001b[39m\u001b[36mmatplotlib-inline\u001b[39m\u001b[39m (\u001b[39m\u001b[32m0.1.7\u001b[39m\u001b[39m)\u001b[39m\n",
            "  \u001b[34;1m-\u001b[39;22m \u001b[39mDowngrading \u001b[39m\u001b[36mopencv-python\u001b[39m\u001b[39m (\u001b[39m\u001b[39;1m4.11.0.86\u001b[39;22m\u001b[39m -> \u001b[39m\u001b[39;1m4.10.0.84\u001b[39;22m\u001b[39m)\u001b[39m: \u001b[34mInstalling...\u001b[39m\n",
            "  \u001b[32;1m-\u001b[39;22m \u001b[39mDowngrading \u001b[39m\u001b[36msafetensors\u001b[39m\u001b[39m (\u001b[39m\u001b[39;1m0.5.3\u001b[39;22m\u001b[39m -> \u001b[39m\u001b[32m0.3.3\u001b[39m\u001b[39m)\u001b[39m\n",
            "  \u001b[32;1m-\u001b[39;22m \u001b[39mDowngrading \u001b[39m\u001b[36mtorchvision\u001b[39m\u001b[39m (\u001b[39m\u001b[39;1m0.21.0\u001b[39;22m\u001b[39m -> \u001b[39m\u001b[32m0.15.2\u001b[39m\u001b[39m)\u001b[39m\n",
            "\u001b[3A\u001b[0J  \u001b[32;1m-\u001b[39;22m \u001b[39mDowngrading \u001b[39m\u001b[36msafetensors\u001b[39m\u001b[39m (\u001b[39m\u001b[39;1m0.5.3\u001b[39;22m\u001b[39m -> \u001b[39m\u001b[32m0.3.3\u001b[39m\u001b[39m)\u001b[39m\n",
            "  \u001b[32;1m-\u001b[39;22m \u001b[39mDowngrading \u001b[39m\u001b[36mtorchvision\u001b[39m\u001b[39m (\u001b[39m\u001b[39;1m0.21.0\u001b[39;22m\u001b[39m -> \u001b[39m\u001b[32m0.15.2\u001b[39m\u001b[39m)\u001b[39m\n",
            "\u001b[2A\u001b[0J  \u001b[32;1m-\u001b[39;22m \u001b[39mDowngrading \u001b[39m\u001b[36mopencv-python\u001b[39m\u001b[39m (\u001b[39m\u001b[39;1m4.11.0.86\u001b[39;22m\u001b[39m -> \u001b[39m\u001b[32m4.10.0.84\u001b[39m\u001b[39m)\u001b[39m\n",
            "  \u001b[32;1m-\u001b[39;22m \u001b[39mDowngrading \u001b[39m\u001b[36msafetensors\u001b[39m\u001b[39m (\u001b[39m\u001b[39;1m0.5.3\u001b[39;22m\u001b[39m -> \u001b[39m\u001b[32m0.3.3\u001b[39m\u001b[39m)\u001b[39m\n",
            "  \u001b[32;1m-\u001b[39;22m \u001b[39mDowngrading \u001b[39m\u001b[36mtorchvision\u001b[39m\u001b[39m (\u001b[39m\u001b[39;1m0.21.0\u001b[39;22m\u001b[39m -> \u001b[39m\u001b[32m0.15.2\u001b[39m\u001b[39m)\u001b[39m\n",
            "\n",
            "\u001b[34mWriting lock file\u001b[39m\n"
          ]
        }
      ]
    }
  ],
  "metadata": {
    "accelerator": "GPU",
    "colab": {
      "gpuType": "T4",
      "provenance": [],
      "include_colab_link": true
    },
    "kernelspec": {
      "display_name": "Python 3",
      "name": "python3"
    },
    "language_info": {
      "name": "python"
    }
  },
  "nbformat": 4,
  "nbformat_minor": 0
}